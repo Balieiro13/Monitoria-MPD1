{
  "nbformat": 4,
  "nbformat_minor": 0,
  "metadata": {
    "colab": {
      "name": "06-Avaliação_Validação.ipynb",
      "provenance": [],
      "collapsed_sections": []
    },
    "kernelspec": {
      "name": "python3",
      "display_name": "Python 3"
    },
    "language_info": {
      "name": "python"
    }
  },
  "cells": [
    {
      "cell_type": "code",
      "execution_count": 1,
      "metadata": {
        "id": "ylPUjb5meV5G"
      },
      "outputs": [],
      "source": [
        "#IMPORTANDO BIBLIOTECAS\n",
        "import numpy as np\n",
        "import pandas as pd\n",
        "\n",
        "from sklearn.datasets import load_wine\n",
        "from sklearn.model_selection import train_test_split, KFold, LeaveOneOut, StratifiedKFold, GridSearchCV\n",
        "\n",
        "from sklearn.tree import DecisionTreeClassifier\n",
        "\n",
        "from sklearn.metrics import plot_confusion_matrix, classification_report, plot_roc_curve, accuracy_score\n",
        "\n",
        "import warnings\n",
        "warnings.filterwarnings('ignore')"
      ]
    },
    {
      "cell_type": "code",
      "source": [
        "dataset = pd.read_csv('/content/Breast Cancer Wisconsin (Diagnostic).csv')"
      ],
      "metadata": {
        "id": "_wSl-4hvfApl"
      },
      "execution_count": 2,
      "outputs": []
    },
    {
      "cell_type": "code",
      "source": [
        "X = dataset.drop([dataset.columns[0]], axis = 1)\n",
        "y = dataset[dataset.columns[0]]\n",
        "\n",
        "#Separando o conjunto de dados em treinamento e teste\n",
        "X_train, X_test, y_train, y_test = train_test_split(X, y)"
      ],
      "metadata": {
        "id": "6NMTEmzz_xqP"
      },
      "execution_count": 3,
      "outputs": []
    },
    {
      "cell_type": "markdown",
      "source": [
        "**MÉTRICAS**"
      ],
      "metadata": {
        "id": "IXPWzz1JCpVU"
      }
    },
    {
      "cell_type": "code",
      "source": [
        "model = DecisionTreeClassifier(random_state=199)\n",
        "#treinando o modelo\n",
        "model.fit(X_train, y_train)\n",
        "\n",
        "#predição\n",
        "y_pred = model.predict(X_test)\n",
        "\n",
        "print(classification_report(y_test, y_pred))"
      ],
      "metadata": {
        "colab": {
          "base_uri": "https://localhost:8080/"
        },
        "id": "pOsD5kg-CHLB",
        "outputId": "bfdc4386-3f4f-4a2b-d7a6-1a3adc297d2c"
      },
      "execution_count": 4,
      "outputs": [
        {
          "output_type": "stream",
          "name": "stdout",
          "text": [
            "              precision    recall  f1-score   support\n",
            "\n",
            "           B       0.97      0.89      0.92        97\n",
            "           M       0.80      0.93      0.86        46\n",
            "\n",
            "    accuracy                           0.90       143\n",
            "   macro avg       0.88      0.91      0.89       143\n",
            "weighted avg       0.91      0.90      0.90       143\n",
            "\n"
          ]
        }
      ]
    },
    {
      "cell_type": "code",
      "source": [
        "plot_confusion_matrix(model, X_test, y_test)"
      ],
      "metadata": {
        "colab": {
          "base_uri": "https://localhost:8080/",
          "height": 296
        },
        "id": "qHVGUC2oCQVT",
        "outputId": "31f08ad1-6275-4a39-e84e-691ff11f70c7"
      },
      "execution_count": 5,
      "outputs": [
        {
          "output_type": "execute_result",
          "data": {
            "text/plain": [
              "<sklearn.metrics._plot.confusion_matrix.ConfusionMatrixDisplay at 0x7efc3ff5b0d0>"
            ]
          },
          "metadata": {},
          "execution_count": 5
        },
        {
          "output_type": "display_data",
          "data": {
            "text/plain": [
              "<Figure size 432x288 with 2 Axes>"
            ],
            "image/png": "[encoded data removed]"
          },
          "metadata": {
            "needs_background": "light"
          }
        }
      ]
    },
    {
      "cell_type": "code",
      "source": [
        "plot_roc_curve(model, X_test, y_test)"
      ],
      "metadata": {
        "colab": {
          "base_uri": "https://localhost:8080/",
          "height": 296
        },
        "id": "OgxnPWoxCSLm",
        "outputId": "9d4ccbec-153a-4660-a86f-8398ea515214"
      },
      "execution_count": 6,
      "outputs": [
        {
          "output_type": "execute_result",
          "data": {
            "text/plain": [
              "<sklearn.metrics._plot.roc_curve.RocCurveDisplay at 0x7efc29289b90>"
            ]
          },
          "metadata": {},
          "execution_count": 6
        },
        {
          "output_type": "display_data",
          "data": {
            "text/plain": [
              "<Figure size 432x288 with 1 Axes>"
            ],
            "image/png": "[encoded data removed]"
          },
          "metadata": {
            "needs_background": "light"
          }
        }
      ]
    },
    {
      "cell_type": "markdown",
      "source": [
        "**HOLD-OUT**"
      ],
      "metadata": {
        "id": "Em3S9KvfdJU6"
      }
    },
    {
      "cell_type": "code",
      "source": [
        "def test_model(X_train, X_test, y_train, y_test, model_class=DecisionTreeClassifier):\n",
        "    model = model_class(random_state=199)\n",
        "    model.fit(X_train, y_train)\n",
        "\n",
        "    accuracy = model.score(X_test, y_test)\n",
        "    return accuracy\n",
        "    \n",
        "X_train, X_test, y_train, y_test = train_test_split(X, y, random_state=199)\n",
        "print(test_model(X_train, X_test, y_train, y_test))\n",
        "\n",
        "X_train, X_test, y_train, y_test = train_test_split(X, y, random_state=200)\n",
        "print(test_model(X_train, X_test, y_train, y_test))\n",
        "\n",
        "X_train, X_test, y_train, y_test = train_test_split(X, y, random_state=201)\n",
        "print(test_model(X_train, X_test, y_train, y_test))\n",
        "\n",
        "X_train, X_test, y_train, y_test = train_test_split(X, y, random_state=202)\n",
        "print(test_model(X_train, X_test, y_train, y_test))\n",
        "\n",
        "#Aleatório\n",
        "print(\"\\nAleatório\")\n",
        "X_train, X_test, y_train, y_test = train_test_split(X, y)\n",
        "print(test_model(X_train, X_test, y_train, y_test))"
      ],
      "metadata": {
        "colab": {
          "base_uri": "https://localhost:8080/"
        },
        "id": "fEw-tjqICmAc",
        "outputId": "9c725928-7658-4116-f065-c088c541e144"
      },
      "execution_count": 7,
      "outputs": [
        {
          "output_type": "stream",
          "name": "stdout",
          "text": [
            "0.916083916083916\n",
            "0.9370629370629371\n",
            "0.9370629370629371\n",
            "0.9440559440559441\n",
            "\n",
            "Aleatório\n",
            "0.8881118881118881\n"
          ]
        }
      ]
    },
    {
      "cell_type": "code",
      "source": [
        "def hold_out():\n",
        "  accuracies_list = []\n",
        "  for i in range(0, 30):\n",
        "      X_train, X_test, y_train, y_test = train_test_split(X, y, random_state=199+i) #variando o random state para criar amostras diferentes\n",
        "      accuracies_list.append(test_model(X_train, X_test, y_train, y_test))\n",
        "\n",
        "  accuracies = np.array(accuracies_list)\n",
        "  print(\"Min: %.3f Max: %.3f\" %(accuracies.min(), accuracies.max()))\n",
        "  print(\"Hold-out: %.3f +- (%.3f)\" %(accuracies.mean(), accuracies.std()))\n",
        "\n",
        "hold_out()"
      ],
      "metadata": {
        "colab": {
          "base_uri": "https://localhost:8080/"
        },
        "id": "I3TYQnkQCtNY",
        "outputId": "f71dcbc9-6715-49e5-e456-bad3f7469a25"
      },
      "execution_count": 8,
      "outputs": [
        {
          "output_type": "stream",
          "name": "stdout",
          "text": [
            "Min: 0.888 Max: 0.951\n",
            "Hold-out: 0.921 +- (0.021)\n"
          ]
        }
      ]
    },
    {
      "cell_type": "markdown",
      "source": [
        "**LEAVE-ONE-OUT**"
      ],
      "metadata": {
        "id": "XVk2rbKLF5ZF"
      }
    },
    {
      "cell_type": "code",
      "source": [
        "def loo(loo):\n",
        "    y_true, y_pred = list(), list()\n",
        "    for train_index, test_index in loo.split(X):\n",
        "          X_train, X_test = X.iloc[train_index], X.iloc[test_index]\n",
        "          y_train, y_test = y.iloc[train_index], y.iloc[test_index]\n",
        "          model = DecisionTreeClassifier(random_state=199)\n",
        "          model.fit(X_train, y_train)\n",
        "          pred = model.predict(X_test)\n",
        "          y_true.append(y_test)\n",
        "          y_pred.append(pred[0])\n",
        "          \n",
        "    print(\"Leave-One-Out: %.3f\" %(accuracy_score(y_true, y_pred)))\n",
        "loo(LeaveOneOut())"
      ],
      "metadata": {
        "colab": {
          "base_uri": "https://localhost:8080/"
        },
        "id": "fdbAoffG4N98",
        "outputId": "387caec5-a2f5-4b30-d859-5bae158daab8"
      },
      "execution_count": 9,
      "outputs": [
        {
          "output_type": "stream",
          "name": "stdout",
          "text": [
            "Leave-One-Out: 0.924\n"
          ]
        }
      ]
    },
    {
      "cell_type": "markdown",
      "source": [
        "**KFOLD**"
      ],
      "metadata": {
        "id": "cy44n7kecrWw"
      }
    },
    {
      "cell_type": "code",
      "source": [
        "def evaluate_model(kf):\n",
        "    accuracies_list = []\n",
        "    fold = 0\n",
        "    for train, test in kf.split(X, y):\n",
        "        X_train, X_test = X.iloc[train], X.iloc[test]\n",
        "        y_train, y_test = y.iloc[train], y.iloc[test]\n",
        "\n",
        "        model = DecisionTreeClassifier(random_state=199)\n",
        "        model.fit(X_train, y_train)\n",
        "        y_pred = model.predict(X_test)\n",
        "        \n",
        "        print(\"Fold %d: %.3f\" %(fold, accuracy_score(y_test, y_pred)))\n",
        "        \n",
        "        accuracies_list.append(accuracy_score(y_test, y_pred))\n",
        "        fold += 1\n",
        "\n",
        "    accuracies = np.array(accuracies_list)\n",
        "    print(\"\\nAcurácia média (desvio): %.3f +- (%.3f)\" %(accuracies.mean(), accuracies.std()))\n",
        "\n",
        "evaluate_model(KFold(n_splits=5))"
      ],
      "metadata": {
        "colab": {
          "base_uri": "https://localhost:8080/"
        },
        "id": "Hdz5dVs6Cyb0",
        "outputId": "391cc356-7179-424c-e931-48b64ee5fa75"
      },
      "execution_count": 10,
      "outputs": [
        {
          "output_type": "stream",
          "name": "stdout",
          "text": [
            "Fold 0: 0.868\n",
            "Fold 1: 0.904\n",
            "Fold 2: 0.939\n",
            "Fold 3: 0.930\n",
            "Fold 4: 0.858\n",
            "\n",
            "Acurácia média (desvio): 0.900 +- (0.032)\n"
          ]
        }
      ]
    },
    {
      "cell_type": "markdown",
      "source": [
        "**GRID SEARCH CV**"
      ],
      "metadata": {
        "id": "6dsNshqpiT4M"
      }
    },
    {
      "cell_type": "code",
      "source": [
        "def grid_Search(skf):\n",
        "  accuracies_list = []\n",
        "  fold = 0\n",
        "\n",
        "  for train, test in skf.split(X, y):\n",
        "        X_train, X_test = X.iloc[train], X.iloc[test]\n",
        "        y_train, y_test = y.iloc[train], y.iloc[test]\n",
        "\n",
        "        model = DecisionTreeClassifier(random_state=199)\n",
        "        parameters = {'min_samples_split': [10, 30],\n",
        "                        'max_depth':[5, 30],\n",
        "                        'max_features':[10, 30]\n",
        "                        }\n",
        "    \n",
        "        grid = GridSearchCV(estimator = model,             # É o DecisionTree\n",
        "                    param_grid = parameters,           # É aquele dicionário com valores para serem testados.\n",
        "                    scoring = 'accuracy',              # A métrica de avaliação\n",
        "                    cv = 5)\n",
        "        \n",
        "        grid.fit(X_train, y_train)\n",
        "\n",
        "        y_pred = grid.predict(X_test)\n",
        "    \n",
        "        print(\"Melhor parametro:\", grid.best_params_)         \n",
        "        print(\"Fold %d: %.3f\" %(fold, accuracy_score(y_test, y_pred)))\n",
        "        \n",
        "        accuracies_list.append(accuracy_score(y_test, y_pred))\n",
        "        fold += 1\n",
        "    \n",
        "    \n",
        "  accuracies = np.array(accuracies_list)\n",
        "  print(\"\\nAcurácia média (desvio): %.3f +- (%.3f)\" %(accuracies.mean(), accuracies.std()))\n",
        "  return pd.DataFrame(grid.cv_results_)\n",
        "\n",
        "grid_Search(StratifiedKFold(n_splits=5))"
      ],
      "metadata": {
        "colab": {
          "base_uri": "https://localhost:8080/",
          "height": 1000
        },
        "id": "AZH3Us4SRsXq",
        "outputId": "910c3d80-648e-4188-dbd5-2385c2020089"
      },
      "execution_count": 12,
      "outputs": [
        {
          "output_type": "stream",
          "name": "stdout",
          "text": [
            "Melhor parametro: {'max_depth': 5, 'max_features': 10, 'min_samples_split': 30}\n",
            "Fold 0: 0.921\n",
            "Melhor parametro: {'max_depth': 5, 'max_features': 10, 'min_samples_split': 30}\n",
            "Fold 1: 0.947\n",
            "Melhor parametro: {'max_depth': 5, 'max_features': 10, 'min_samples_split': 30}\n",
            "Fold 2: 0.912\n",
            "Melhor parametro: {'max_depth': 5, 'max_features': 10, 'min_samples_split': 10}\n",
            "Fold 3: 0.921\n",
            "Melhor parametro: {'max_depth': 5, 'max_features': 10, 'min_samples_split': 10}\n",
            "Fold 4: 0.982\n",
            "\n",
            "Acurácia média (desvio): 0.937 +- (0.026)\n"
          ]
        },
        {
          "output_type": "execute_result",
          "data": {
            "text/plain": [
              "   mean_fit_time  std_fit_time  mean_score_time  std_score_time  \\\n",
              "0       0.005852      0.001259         0.002831        0.000638   \n",
              "1       0.005020      0.000400         0.002109        0.000072   \n",
              "2       0.008210      0.000306         0.002752        0.000392   \n",
              "3       0.009188      0.001717         0.002558        0.000310   \n",
              "4       0.005277      0.000396         0.002268        0.000099   \n",
              "5       0.005386      0.000657         0.002247        0.000190   \n",
              "6       0.008679      0.000304         0.002397        0.000091   \n",
              "7       0.009605      0.001412         0.003761        0.001089   \n",
              "\n",
              "  param_max_depth param_max_features param_min_samples_split  \\\n",
              "0               5                 10                      10   \n",
              "1               5                 10                      30   \n",
              "2               5                 30                      10   \n",
              "3               5                 30                      30   \n",
              "4              30                 10                      10   \n",
              "5              30                 10                      30   \n",
              "6              30                 30                      10   \n",
              "7              30                 30                      30   \n",
              "\n",
              "                                              params  split0_test_score  \\\n",
              "0  {'max_depth': 5, 'max_features': 10, 'min_samp...           0.934783   \n",
              "1  {'max_depth': 5, 'max_features': 10, 'min_samp...           0.956522   \n",
              "2  {'max_depth': 5, 'max_features': 30, 'min_samp...           0.923913   \n",
              "3  {'max_depth': 5, 'max_features': 30, 'min_samp...           0.902174   \n",
              "4  {'max_depth': 30, 'max_features': 10, 'min_sam...           0.923913   \n",
              "5  {'max_depth': 30, 'max_features': 10, 'min_sam...           0.956522   \n",
              "6  {'max_depth': 30, 'max_features': 30, 'min_sam...           0.913043   \n",
              "7  {'max_depth': 30, 'max_features': 30, 'min_sam...           0.902174   \n",
              "\n",
              "   split1_test_score  split2_test_score  split3_test_score  split4_test_score  \\\n",
              "0           0.879121           0.978022           0.945055           0.956044   \n",
              "1           0.890110           0.912088           0.934066           0.945055   \n",
              "2           0.912088           0.901099           0.956044           0.901099   \n",
              "3           0.901099           0.945055           0.945055           0.879121   \n",
              "4           0.868132           0.956044           0.967033           0.934066   \n",
              "5           0.879121           0.912088           0.901099           0.945055   \n",
              "6           0.934066           0.901099           0.956044           0.901099   \n",
              "7           0.901099           0.945055           0.945055           0.879121   \n",
              "\n",
              "   mean_test_score  std_test_score  rank_test_score  \n",
              "0         0.938605        0.033022                1  \n",
              "1         0.927568        0.023787                3  \n",
              "2         0.918849        0.020420                5  \n",
              "3         0.914501        0.026269                7  \n",
              "4         0.929838        0.034441                2  \n",
              "5         0.918777        0.028443                6  \n",
              "6         0.921070        0.021233                4  \n",
              "7         0.914501        0.026269                7  "
            ],
            "text/html": [
              "\n",
              "  <div id=\"df-a10d91d6-3c59-4294-bc24-153d14e27eae\">\n",
              "    <div class=\"colab-df-container\">\n",
              "      <div>\n",
              "<style scoped>\n",
              "    .dataframe tbody tr th:only-of-type {\n",
              "        vertical-align: middle;\n",
              "    }\n",
              "\n",
              "    .dataframe tbody tr th {\n",
              "        vertical-align: top;\n",
              "    }\n",
              "\n",
              "    .dataframe thead th {\n",
              "        text-align: right;\n",
              "    }\n",
              "</style>\n",
              "<table border=\"1\" class=\"dataframe\">\n",
              "  <thead>\n",
              "    <tr style=\"text-align: right;\">\n",
              "      <th></th>\n",
              "      <th>mean_fit_time</th>\n",
              "      <th>std_fit_time</th>\n",
              "      <th>mean_score_time</th>\n",
              "      <th>std_score_time</th>\n",
              "      <th>param_max_depth</th>\n",
              "      <th>param_max_features</th>\n",
              "      <th>param_min_samples_split</th>\n",
              "      <th>params</th>\n",
              "      <th>split0_test_score</th>\n",
              "      <th>split1_test_score</th>\n",
              "      <th>split2_test_score</th>\n",
              "      <th>split3_test_score</th>\n",
              "      <th>split4_test_score</th>\n",
              "      <th>mean_test_score</th>\n",
              "      <th>std_test_score</th>\n",
              "      <th>rank_test_score</th>\n",
              "    </tr>\n",
              "  </thead>\n",
              "  <tbody>\n",
              "    <tr>\n",
              "      <th>0</th>\n",
              "      <td>0.005852</td>\n",
              "      <td>0.001259</td>\n",
              "      <td>0.002831</td>\n",
              "      <td>0.000638</td>\n",
              "      <td>5</td>\n",
              "      <td>10</td>\n",
              "      <td>10</td>\n",
              "      <td>{'max_depth': 5, 'max_features': 10, 'min_samp...</td>\n",
              "      <td>0.934783</td>\n",
              "      <td>0.879121</td>\n",
              "      <td>0.978022</td>\n",
              "      <td>0.945055</td>\n",
              "      <td>0.956044</td>\n",
              "      <td>0.938605</td>\n",
              "      <td>0.033022</td>\n",
              "      <td>1</td>\n",
              "    </tr>\n",
              "    <tr>\n",
              "      <th>1</th>\n",
              "      <td>0.005020</td>\n",
              "      <td>0.000400</td>\n",
              "      <td>0.002109</td>\n",
              "      <td>0.000072</td>\n",
              "      <td>5</td>\n",
              "      <td>10</td>\n",
              "      <td>30</td>\n",
              "      <td>{'max_depth': 5, 'max_features': 10, 'min_samp...</td>\n",
              "      <td>0.956522</td>\n",
              "      <td>0.890110</td>\n",
              "      <td>0.912088</td>\n",
              "      <td>0.934066</td>\n",
              "      <td>0.945055</td>\n",
              "      <td>0.927568</td>\n",
              "      <td>0.023787</td>\n",
              "      <td>3</td>\n",
              "    </tr>\n",
              "    <tr>\n",
              "      <th>2</th>\n",
              "      <td>0.008210</td>\n",
              "      <td>0.000306</td>\n",
              "      <td>0.002752</td>\n",
              "      <td>0.000392</td>\n",
              "      <td>5</td>\n",
              "      <td>30</td>\n",
              "      <td>10</td>\n",
              "      <td>{'max_depth': 5, 'max_features': 30, 'min_samp...</td>\n",
              "      <td>0.923913</td>\n",
              "      <td>0.912088</td>\n",
              "      <td>0.901099</td>\n",
              "      <td>0.956044</td>\n",
              "      <td>0.901099</td>\n",
              "      <td>0.918849</td>\n",
              "      <td>0.020420</td>\n",
              "      <td>5</td>\n",
              "    </tr>\n",
              "    <tr>\n",
              "      <th>3</th>\n",
              "      <td>0.009188</td>\n",
              "      <td>0.001717</td>\n",
              "      <td>0.002558</td>\n",
              "      <td>0.000310</td>\n",
              "      <td>5</td>\n",
              "      <td>30</td>\n",
              "      <td>30</td>\n",
              "      <td>{'max_depth': 5, 'max_features': 30, 'min_samp...</td>\n",
              "      <td>0.902174</td>\n",
              "      <td>0.901099</td>\n",
              "      <td>0.945055</td>\n",
              "      <td>0.945055</td>\n",
              "      <td>0.879121</td>\n",
              "      <td>0.914501</td>\n",
              "      <td>0.026269</td>\n",
              "      <td>7</td>\n",
              "    </tr>\n",
              "    <tr>\n",
              "      <th>4</th>\n",
              "      <td>0.005277</td>\n",
              "      <td>0.000396</td>\n",
              "      <td>0.002268</td>\n",
              "      <td>0.000099</td>\n",
              "      <td>30</td>\n",
              "      <td>10</td>\n",
              "      <td>10</td>\n",
              "      <td>{'max_depth': 30, 'max_features': 10, 'min_sam...</td>\n",
              "      <td>0.923913</td>\n",
              "      <td>0.868132</td>\n",
              "      <td>0.956044</td>\n",
              "      <td>0.967033</td>\n",
              "      <td>0.934066</td>\n",
              "      <td>0.929838</td>\n",
              "      <td>0.034441</td>\n",
              "      <td>2</td>\n",
              "    </tr>\n",
              "    <tr>\n",
              "      <th>5</th>\n",
              "      <td>0.005386</td>\n",
              "      <td>0.000657</td>\n",
              "      <td>0.002247</td>\n",
              "      <td>0.000190</td>\n",
              "      <td>30</td>\n",
              "      <td>10</td>\n",
              "      <td>30</td>\n",
              "      <td>{'max_depth': 30, 'max_features': 10, 'min_sam...</td>\n",
              "      <td>0.956522</td>\n",
              "      <td>0.879121</td>\n",
              "      <td>0.912088</td>\n",
              "      <td>0.901099</td>\n",
              "      <td>0.945055</td>\n",
              "      <td>0.918777</td>\n",
              "      <td>0.028443</td>\n",
              "      <td>6</td>\n",
              "    </tr>\n",
              "    <tr>\n",
              "      <th>6</th>\n",
              "      <td>0.008679</td>\n",
              "      <td>0.000304</td>\n",
              "      <td>0.002397</td>\n",
              "      <td>0.000091</td>\n",
              "      <td>30</td>\n",
              "      <td>30</td>\n",
              "      <td>10</td>\n",
              "      <td>{'max_depth': 30, 'max_features': 30, 'min_sam...</td>\n",
              "      <td>0.913043</td>\n",
              "      <td>0.934066</td>\n",
              "      <td>0.901099</td>\n",
              "      <td>0.956044</td>\n",
              "      <td>0.901099</td>\n",
              "      <td>0.921070</td>\n",
              "      <td>0.021233</td>\n",
              "      <td>4</td>\n",
              "    </tr>\n",
              "    <tr>\n",
              "      <th>7</th>\n",
              "      <td>0.009605</td>\n",
              "      <td>0.001412</td>\n",
              "      <td>0.003761</td>\n",
              "      <td>0.001089</td>\n",
              "      <td>30</td>\n",
              "      <td>30</td>\n",
              "      <td>30</td>\n",
              "      <td>{'max_depth': 30, 'max_features': 30, 'min_sam...</td>\n",
              "      <td>0.902174</td>\n",
              "      <td>0.901099</td>\n",
              "      <td>0.945055</td>\n",
              "      <td>0.945055</td>\n",
              "      <td>0.879121</td>\n",
              "      <td>0.914501</td>\n",
              "      <td>0.026269</td>\n",
              "      <td>7</td>\n",
              "    </tr>\n",
              "  </tbody>\n",
              "</table>\n",
              "</div>\n",
              "      <button class=\"colab-df-convert\" onclick=\"convertToInteractive('df-a10d91d6-3c59-4294-bc24-153d14e27eae')\"\n",
              "              title=\"Convert this dataframe to an interactive table.\"\n",
              "              style=\"display:none;\">\n",
              "        \n",
              "  <svg xmlns=\"http://www.w3.org/2000/svg\" height=\"24px\"viewBox=\"0 0 24 24\"\n",
              "       width=\"24px\">\n",
              "    <path d=\"M0 0h24v24H0V0z\" fill=\"none\"/>\n",
              "    <path d=\"M18.56 5.44l.94 2.06.94-2.06 2.06-.94-2.06-.94-.94-2.06-.94 2.06-2.06.94zm-11 1L8.5 8.5l.94-2.06 2.06-.94-2.06-.94L8.5 2.5l-.94 2.06-2.06.94zm10 10l.94 2.06.94-2.06 2.06-.94-2.06-.94-.94-2.06-.94 2.06-2.06.94z\"/><path d=\"M17.41 7.96l-1.37-1.37c-.4-.4-.92-.59-1.43-.59-.52 0-1.04.2-1.43.59L10.3 9.45l-7.72 7.72c-.78.78-.78 2.05 0 2.83L4 21.41c.39.39.9.59 1.41.59.51 0 1.02-.2 1.41-.59l7.78-7.78 2.81-2.81c.8-.78.8-2.07 0-2.86zM5.41 20L4 18.59l7.72-7.72 1.47 1.35L5.41 20z\"/>\n",
              "  </svg>\n",
              "      </button>\n",
              "      \n",
              "  <style>\n",
              "    .colab-df-container {\n",
              "      display:flex;\n",
              "      flex-wrap:wrap;\n",
              "      gap: 12px;\n",
              "    }\n",
              "\n",
              "    .colab-df-convert {\n",
              "      background-color: #E8F0FE;\n",
              "      border: none;\n",
              "      border-radius: 50%;\n",
              "      cursor: pointer;\n",
              "      display: none;\n",
              "      fill: #1967D2;\n",
              "      height: 32px;\n",
              "      padding: 0 0 0 0;\n",
              "      width: 32px;\n",
              "    }\n",
              "\n",
              "    .colab-df-convert:hover {\n",
              "      background-color: #E2EBFA;\n",
              "      box-shadow: 0px 1px 2px rgba(60, 64, 67, 0.3), 0px 1px 3px 1px rgba(60, 64, 67, 0.15);\n",
              "      fill: #174EA6;\n",
              "    }\n",
              "\n",
              "    [theme=dark] .colab-df-convert {\n",
              "      background-color: #3B4455;\n",
              "      fill: #D2E3FC;\n",
              "    }\n",
              "\n",
              "    [theme=dark] .colab-df-convert:hover {\n",
              "      background-color: #434B5C;\n",
              "      box-shadow: 0px 1px 3px 1px rgba(0, 0, 0, 0.15);\n",
              "      filter: drop-shadow(0px 1px 2px rgba(0, 0, 0, 0.3));\n",
              "      fill: #FFFFFF;\n",
              "    }\n",
              "  </style>\n",
              "\n",
              "      <script>\n",
              "        const buttonEl =\n",
              "          document.querySelector('#df-a10d91d6-3c59-4294-bc24-153d14e27eae button.colab-df-convert');\n",
              "        buttonEl.style.display =\n",
              "          google.colab.kernel.accessAllowed ? 'block' : 'none';\n",
              "\n",
              "        async function convertToInteractive(key) {\n",
              "          const element = document.querySelector('#df-a10d91d6-3c59-4294-bc24-153d14e27eae');\n",
              "          const dataTable =\n",
              "            await google.colab.kernel.invokeFunction('convertToInteractive',\n",
              "                                                     [key], {});\n",
              "          if (!dataTable) return;\n",
              "\n",
              "          const docLinkHtml = 'Like what you see? Visit the ' +\n",
              "            '<a target=\"_blank\" href=https://colab.research.google.com/notebooks/data_table.ipynb>data table notebook</a>'\n",
              "            + ' to learn more about interactive tables.';\n",
              "          element.innerHTML = '';\n",
              "          dataTable['output_type'] = 'display_data';\n",
              "          await google.colab.output.renderOutput(dataTable, element);\n",
              "          const docLink = document.createElement('div');\n",
              "          docLink.innerHTML = docLinkHtml;\n",
              "          element.appendChild(docLink);\n",
              "        }\n",
              "      </script>\n",
              "    </div>\n",
              "  </div>\n",
              "  "
            ]
          },
          "metadata": {},
          "execution_count": 12
        }
      ]
    },
    {
      "cell_type": "markdown",
      "source": [
        "**HOLD-OUT:** 0.921 +- (0.021)\n",
        "\n",
        "**LEAVE-ONE-OUT:** 0.924\n",
        "\n",
        "**KFOLD:** 0.900 +- (0.032)\n",
        "\n",
        "**STRATIFIED KFOLD:** 0.916 +- (0.017)\n",
        "\n",
        "**GRID:** 0.937 +- (0.026)\n"
      ],
      "metadata": {
        "id": "6FlyLFXx3rNQ"
      }
    }
  ]
}