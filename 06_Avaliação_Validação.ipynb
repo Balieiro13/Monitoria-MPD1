{
  "nbformat": 4,
  "nbformat_minor": 0,
  "metadata": {
    "colab": {
      "name": "06-Avaliação_Validação.ipynb",
      "provenance": [],
      "collapsed_sections": []
    },
    "kernelspec": {
      "name": "python3",
      "display_name": "Python 3"
    },
    "language_info": {
      "name": "python"
    }
  },
  "cells": [
    {
      "cell_type": "code",
      "execution_count": 1,
      "metadata": {
        "id": "ylPUjb5meV5G"
      },
      "outputs": [],
      "source": [
        "#IMPORTANDO BIBLIOTECAS\n",
        "import numpy as np\n",
        "import pandas as pd\n",
        "\n",
        "from sklearn.datasets import load_wine\n",
        "from sklearn.model_selection import train_test_split, KFold, LeaveOneOut, StratifiedKFold, GridSearchCV\n",
        "\n",
        "from sklearn.tree import DecisionTreeClassifier\n",
        "\n",
        "from sklearn.metrics import plot_confusion_matrix, classification_report, plot_roc_curve, accuracy_score\n",
        "\n",
        "import warnings\n",
        "warnings.filterwarnings('ignore')"
      ]
    },
    {
      "cell_type": "code",
      "source": [
        "dataset = pd.read_csv('https://raw.githubusercontent.com/JusciAvelino/Monitoria-ModelagemPreditivaDescritiva1/main/Breast%20Cancer%20Wisconsin%20(Diagnostic).csv')"
      ],
      "metadata": {
        "id": "_wSl-4hvfApl"
      },
      "execution_count": 2,
      "outputs": []
    },
    {
      "cell_type": "code",
      "source": [
        "X = dataset.drop([dataset.columns[0]], axis = 1)\n",
        "y = dataset[dataset.columns[0]]\n",
        "\n",
        "#Separando o conjunto de dados em treinamento e teste\n",
        "X_train, X_test, y_train, y_test = train_test_split(X, y)"
      ],
      "metadata": {
        "id": "6NMTEmzz_xqP"
      },
      "execution_count": 3,
      "outputs": []
    },
    {
      "cell_type": "markdown",
      "source": [
        "**MÉTRICAS**"
      ],
      "metadata": {
        "id": "IXPWzz1JCpVU"
      }
    },
    {
      "cell_type": "code",
      "source": [
        "model = DecisionTreeClassifier(random_state=199)\n",
        "#treinando o modelo\n",
        "model.fit(X_train, y_train)\n",
        "\n",
        "#predição\n",
        "y_pred = model.predict(X_test)\n",
        "\n",
        "print(classification_report(y_test, y_pred))"
      ],
      "metadata": {
        "colab": {
          "base_uri": "https://localhost:8080/"
        },
        "id": "pOsD5kg-CHLB",
        "outputId": "e62b7998-75a1-4c53-8fc2-852eb27b0ea9"
      },
      "execution_count": 4,
      "outputs": [
        {
          "output_type": "stream",
          "name": "stdout",
          "text": [
            "              precision    recall  f1-score   support\n",
            "\n",
            "           B       0.95      0.87      0.91        94\n",
            "           M       0.79      0.92      0.85        49\n",
            "\n",
            "    accuracy                           0.89       143\n",
            "   macro avg       0.87      0.90      0.88       143\n",
            "weighted avg       0.90      0.89      0.89       143\n",
            "\n"
          ]
        }
      ]
    },
    {
      "cell_type": "code",
      "source": [
        "plot_confusion_matrix(model, X_test, y_test)"
      ],
      "metadata": {
        "colab": {
          "base_uri": "https://localhost:8080/",
          "height": 296
        },
        "id": "qHVGUC2oCQVT",
        "outputId": "d2e54900-8e32-4244-8f6a-3bb3f9e18133"
      },
      "execution_count": 5,
      "outputs": [
        {
          "output_type": "execute_result",
          "data": {
            "text/plain": [
              "<sklearn.metrics._plot.confusion_matrix.ConfusionMatrixDisplay at 0x7fbf2d72e0d0>"
            ]
          },
          "metadata": {},
          "execution_count": 5
        },
        {
          "output_type": "display_data",
          "data": {
            "text/plain": [
              "<Figure size 432x288 with 2 Axes>"
            ],
            "image/png": "[encoded data removed]"
          },
          "metadata": {
            "needs_background": "light"
          }
        }
      ]
    },
    {
      "cell_type": "code",
      "source": [
        "plot_roc_curve(model, X_test, y_test)"
      ],
      "metadata": {
        "colab": {
          "base_uri": "https://localhost:8080/",
          "height": 296
        },
        "id": "OgxnPWoxCSLm",
        "outputId": "f62ec4c8-9d4e-40d4-82d6-4a48b16fea85"
      },
      "execution_count": 6,
      "outputs": [
        {
          "output_type": "execute_result",
          "data": {
            "text/plain": [
              "<sklearn.metrics._plot.roc_curve.RocCurveDisplay at 0x7fbf16490c90>"
            ]
          },
          "metadata": {},
          "execution_count": 6
        },
        {
          "output_type": "display_data",
          "data": {
            "text/plain": [
              "<Figure size 432x288 with 1 Axes>"
            ],
            "image/png": "[encoded data removed]"
          },
          "metadata": {
            "needs_background": "light"
          }
        }
      ]
    },
    {
      "cell_type": "markdown",
      "source": [
        "**HOLD-OUT**"
      ],
      "metadata": {
        "id": "Em3S9KvfdJU6"
      }
    },
    {
      "cell_type": "code",
      "source": [
        "def test_model(X_train, X_test, y_train, y_test, model_class=DecisionTreeClassifier):\n",
        "    model = model_class(random_state=199)\n",
        "    model.fit(X_train, y_train)\n",
        "\n",
        "    accuracy = model.score(X_test, y_test)\n",
        "    return accuracy\n",
        "    \n",
        "X_train, X_test, y_train, y_test = train_test_split(X, y, random_state=199)\n",
        "print(test_model(X_train, X_test, y_train, y_test))\n",
        "\n",
        "X_train, X_test, y_train, y_test = train_test_split(X, y, random_state=200)\n",
        "print(test_model(X_train, X_test, y_train, y_test))\n",
        "\n",
        "X_train, X_test, y_train, y_test = train_test_split(X, y, random_state=201)\n",
        "print(test_model(X_train, X_test, y_train, y_test))\n",
        "\n",
        "X_train, X_test, y_train, y_test = train_test_split(X, y, random_state=202)\n",
        "print(test_model(X_train, X_test, y_train, y_test))\n",
        "\n",
        "#Aleatório\n",
        "print(\"\\nAleatório\")\n",
        "X_train, X_test, y_train, y_test = train_test_split(X, y)\n",
        "print(test_model(X_train, X_test, y_train, y_test))"
      ],
      "metadata": {
        "colab": {
          "base_uri": "https://localhost:8080/"
        },
        "id": "fEw-tjqICmAc",
        "outputId": "e3cc1724-7738-4093-c1fb-4a79e2f622b1"
      },
      "execution_count": 7,
      "outputs": [
        {
          "output_type": "stream",
          "name": "stdout",
          "text": [
            "0.916083916083916\n",
            "0.9370629370629371\n",
            "0.9370629370629371\n",
            "0.9440559440559441\n",
            "\n",
            "Aleatório\n",
            "0.9370629370629371\n"
          ]
        }
      ]
    },
    {
      "cell_type": "code",
      "source": [
        "def hold_out():\n",
        "  accuracies_list = []\n",
        "  for i in range(0, 30):\n",
        "      X_train, X_test, y_train, y_test = train_test_split(X, y, random_state=199+i) #variando o random state para criar amostras diferentes\n",
        "      accuracies_list.append(test_model(X_train, X_test, y_train, y_test))\n",
        "\n",
        "  accuracies = np.array(accuracies_list)\n",
        "  print(\"Min: %.3f Max: %.3f\" %(accuracies.min(), accuracies.max()))\n",
        "  print(\"Hold-out: %.3f +- (%.3f)\" %(accuracies.mean(), accuracies.std()))\n",
        "\n",
        "hold_out()"
      ],
      "metadata": {
        "colab": {
          "base_uri": "https://localhost:8080/"
        },
        "id": "I3TYQnkQCtNY",
        "outputId": "b81ba792-70fa-4573-a36c-7c3f22ce0aad"
      },
      "execution_count": 8,
      "outputs": [
        {
          "output_type": "stream",
          "name": "stdout",
          "text": [
            "Min: 0.888 Max: 0.951\n",
            "Hold-out: 0.921 +- (0.021)\n"
          ]
        }
      ]
    },
    {
      "cell_type": "markdown",
      "source": [
        "**LEAVE-ONE-OUT**"
      ],
      "metadata": {
        "id": "XVk2rbKLF5ZF"
      }
    },
    {
      "cell_type": "code",
      "source": [
        "def loo(loo):\n",
        "    y_true, y_pred = list(), list()\n",
        "    for train_index, test_index in loo.split(X):\n",
        "          X_train, X_test = X.iloc[train_index], X.iloc[test_index]\n",
        "          y_train, y_test = y.iloc[train_index], y.iloc[test_index]\n",
        "          model = DecisionTreeClassifier(random_state=199)\n",
        "          model.fit(X_train, y_train)\n",
        "          pred = model.predict(X_test)\n",
        "          y_true.append(y_test)\n",
        "          y_pred.append(pred[0])\n",
        "          \n",
        "    print(\"Leave-One-Out: %.3f\" %(accuracy_score(y_true, y_pred)))\n",
        "loo(LeaveOneOut())"
      ],
      "metadata": {
        "colab": {
          "base_uri": "https://localhost:8080/"
        },
        "id": "fdbAoffG4N98",
        "outputId": "8ef5fc87-dbab-474e-881a-6b4523b8ed44"
      },
      "execution_count": 9,
      "outputs": [
        {
          "output_type": "stream",
          "name": "stdout",
          "text": [
            "Leave-One-Out: 0.924\n"
          ]
        }
      ]
    },
    {
      "cell_type": "markdown",
      "source": [
        "**KFOLD**"
      ],
      "metadata": {
        "id": "cy44n7kecrWw"
      }
    },
    {
      "cell_type": "code",
      "source": [
        "def evaluate_model(kf):\n",
        "    accuracies_list = []\n",
        "    fold = 0\n",
        "    for train, test in kf.split(X, y):\n",
        "        \n",
        "        X_train, X_test = X.iloc[train], X.iloc[test]\n",
        "        y_train, y_test = y.iloc[train], y.iloc[test]\n",
        "\n",
        "        model = DecisionTreeClassifier(random_state=199)\n",
        "        model.fit(X_train, y_train)\n",
        "        y_pred = model.predict(X_test)\n",
        "        \n",
        "        print(\"Fold %d: %.3f\" %(fold, accuracy_score(y_test, y_pred)))\n",
        "        \n",
        "        accuracies_list.append(accuracy_score(y_test, y_pred))\n",
        "        fold += 1\n",
        "\n",
        "    accuracies = np.array(accuracies_list)\n",
        "    print(\"\\nAcurácia média (desvio): %.3f +- (%.3f)\" %(accuracies.mean(), accuracies.std()))\n",
        "\n",
        "evaluate_model(KFold(n_splits=5, random_state=42, shuffle=True))"
      ],
      "metadata": {
        "colab": {
          "base_uri": "https://localhost:8080/"
        },
        "id": "Hdz5dVs6Cyb0",
        "outputId": "f2f2902c-6cb5-4e71-db63-2d27736e543e"
      },
      "execution_count": 10,
      "outputs": [
        {
          "output_type": "stream",
          "name": "stdout",
          "text": [
            "Fold 0: 0.947\n",
            "Fold 1: 0.930\n",
            "Fold 2: 0.895\n",
            "Fold 3: 0.947\n",
            "Fold 4: 0.947\n",
            "\n",
            "Acurácia média (desvio): 0.933 +- (0.020)\n"
          ]
        }
      ]
    },
    {
      "cell_type": "markdown",
      "source": [
        "**GRID SEARCH CV**"
      ],
      "metadata": {
        "id": "6dsNshqpiT4M"
      }
    },
    {
      "cell_type": "code",
      "source": [
        "def grid_Search(skf):\n",
        "  accuracies_list = []\n",
        "  fold = 0\n",
        "\n",
        "  for train, test in skf.split(X, y):\n",
        "        X_train, X_test = X.iloc[train], X.iloc[test]\n",
        "        y_train, y_test = y.iloc[train], y.iloc[test]\n",
        "\n",
        "        model = DecisionTreeClassifier(random_state=199)\n",
        "        parameters = {'min_samples_split': [10, 30],\n",
        "                        'max_depth':[5, 30],\n",
        "                        'max_features':[10, 30]\n",
        "                        }\n",
        "    \n",
        "        grid = GridSearchCV(estimator = model,             # É o DecisionTree\n",
        "                    param_grid = parameters,           # É aquele dicionário com valores para serem testados.\n",
        "                    scoring = 'accuracy',              # A métrica de avaliação\n",
        "                    cv = 5)\n",
        "        \n",
        "        grid.fit(X_train, y_train)\n",
        "\n",
        "        y_pred = grid.predict(X_test)\n",
        "    \n",
        "        print(\"Melhor parametro:\", grid.best_params_)         \n",
        "        print(\"Fold %d: %.3f\" %(fold, accuracy_score(y_test, y_pred)))\n",
        "        \n",
        "        accuracies_list.append(accuracy_score(y_test, y_pred))\n",
        "        fold += 1\n",
        "    \n",
        "    \n",
        "  accuracies = np.array(accuracies_list)\n",
        "  print(\"\\nAcurácia média (desvio): %.3f +- (%.3f)\" %(accuracies.mean(), accuracies.std()))\n",
        "  return pd.DataFrame(grid.cv_results_)\n",
        "\n",
        "grid_Search(StratifiedKFold(n_splits=5, random_state=42, shuffle=True))"
      ],
      "metadata": {
        "colab": {
          "base_uri": "https://localhost:8080/",
          "height": 1000
        },
        "id": "AZH3Us4SRsXq",
        "outputId": "fa78bf4b-f7c4-4cf9-9fa7-0d3a6590093f"
      },
      "execution_count": 11,
      "outputs": [
        {
          "output_type": "stream",
          "name": "stdout",
          "text": [
            "Melhor parametro: {'max_depth': 30, 'max_features': 10, 'min_samples_split': 10}\n",
            "Fold 0: 0.921\n",
            "Melhor parametro: {'max_depth': 5, 'max_features': 10, 'min_samples_split': 10}\n",
            "Fold 1: 0.912\n",
            "Melhor parametro: {'max_depth': 5, 'max_features': 10, 'min_samples_split': 30}\n",
            "Fold 2: 0.921\n",
            "Melhor parametro: {'max_depth': 30, 'max_features': 10, 'min_samples_split': 10}\n",
            "Fold 3: 0.939\n",
            "Melhor parametro: {'max_depth': 5, 'max_features': 30, 'min_samples_split': 10}\n",
            "Fold 4: 0.938\n",
            "\n",
            "Acurácia média (desvio): 0.926 +- (0.010)\n"
          ]
        },
        {
          "output_type": "execute_result",
          "data": {
            "text/plain": [
              "   mean_fit_time  std_fit_time  mean_score_time  std_score_time  \\\n",
              "0       0.007728      0.001025         0.003412        0.000197   \n",
              "1       0.006960      0.000370         0.003465        0.000321   \n",
              "2       0.017233      0.008064         0.006208        0.003164   \n",
              "3       0.022037      0.005095         0.007066        0.003150   \n",
              "4       0.014862      0.001043         0.003978        0.000679   \n",
              "5       0.007575      0.000303         0.003613        0.000454   \n",
              "6       0.011956      0.001329         0.005369        0.002684   \n",
              "7       0.011459      0.001214         0.003747        0.000117   \n",
              "\n",
              "  param_max_depth param_max_features param_min_samples_split  \\\n",
              "0               5                 10                      10   \n",
              "1               5                 10                      30   \n",
              "2               5                 30                      10   \n",
              "3               5                 30                      30   \n",
              "4              30                 10                      10   \n",
              "5              30                 10                      30   \n",
              "6              30                 30                      10   \n",
              "7              30                 30                      30   \n",
              "\n",
              "                                              params  split0_test_score  \\\n",
              "0  {'max_depth': 5, 'max_features': 10, 'min_samp...           0.923913   \n",
              "1  {'max_depth': 5, 'max_features': 10, 'min_samp...           0.902174   \n",
              "2  {'max_depth': 5, 'max_features': 30, 'min_samp...           0.923913   \n",
              "3  {'max_depth': 5, 'max_features': 30, 'min_samp...           0.891304   \n",
              "4  {'max_depth': 30, 'max_features': 10, 'min_sam...           0.869565   \n",
              "5  {'max_depth': 30, 'max_features': 10, 'min_sam...           0.923913   \n",
              "6  {'max_depth': 30, 'max_features': 30, 'min_sam...           0.913043   \n",
              "7  {'max_depth': 30, 'max_features': 30, 'min_sam...           0.891304   \n",
              "\n",
              "   split1_test_score  split2_test_score  split3_test_score  split4_test_score  \\\n",
              "0           0.890110           0.868132           0.923077           0.967033   \n",
              "1           0.879121           0.901099           0.923077           0.967033   \n",
              "2           0.901099           0.956044           0.945055           0.912088   \n",
              "3           0.901099           0.901099           0.945055           0.923077   \n",
              "4           0.890110           0.901099           0.923077           0.956044   \n",
              "5           0.868132           0.868132           0.901099           0.967033   \n",
              "6           0.901099           0.956044           0.923077           0.912088   \n",
              "7           0.901099           0.901099           0.945055           0.923077   \n",
              "\n",
              "   mean_test_score  std_test_score  rank_test_score  \n",
              "0         0.914453        0.033665                4  \n",
              "1         0.914501        0.029720                3  \n",
              "2         0.927640        0.020348                1  \n",
              "3         0.912327        0.019395                5  \n",
              "4         0.907979        0.029599                7  \n",
              "5         0.905662        0.037249                8  \n",
              "6         0.921070        0.018821                2  \n",
              "7         0.912327        0.019395                5  "
            ],
            "text/html": [
              "\n",
              "  <div id=\"df-fd0f7a22-1505-4a9f-8800-5e184fc2b5b3\">\n",
              "    <div class=\"colab-df-container\">\n",
              "      <div>\n",
              "<style scoped>\n",
              "    .dataframe tbody tr th:only-of-type {\n",
              "        vertical-align: middle;\n",
              "    }\n",
              "\n",
              "    .dataframe tbody tr th {\n",
              "        vertical-align: top;\n",
              "    }\n",
              "\n",
              "    .dataframe thead th {\n",
              "        text-align: right;\n",
              "    }\n",
              "</style>\n",
              "<table border=\"1\" class=\"dataframe\">\n",
              "  <thead>\n",
              "    <tr style=\"text-align: right;\">\n",
              "      <th></th>\n",
              "      <th>mean_fit_time</th>\n",
              "      <th>std_fit_time</th>\n",
              "      <th>mean_score_time</th>\n",
              "      <th>std_score_time</th>\n",
              "      <th>param_max_depth</th>\n",
              "      <th>param_max_features</th>\n",
              "      <th>param_min_samples_split</th>\n",
              "      <th>params</th>\n",
              "      <th>split0_test_score</th>\n",
              "      <th>split1_test_score</th>\n",
              "      <th>split2_test_score</th>\n",
              "      <th>split3_test_score</th>\n",
              "      <th>split4_test_score</th>\n",
              "      <th>mean_test_score</th>\n",
              "      <th>std_test_score</th>\n",
              "      <th>rank_test_score</th>\n",
              "    </tr>\n",
              "  </thead>\n",
              "  <tbody>\n",
              "    <tr>\n",
              "      <th>0</th>\n",
              "      <td>0.007728</td>\n",
              "      <td>0.001025</td>\n",
              "      <td>0.003412</td>\n",
              "      <td>0.000197</td>\n",
              "      <td>5</td>\n",
              "      <td>10</td>\n",
              "      <td>10</td>\n",
              "      <td>{'max_depth': 5, 'max_features': 10, 'min_samp...</td>\n",
              "      <td>0.923913</td>\n",
              "      <td>0.890110</td>\n",
              "      <td>0.868132</td>\n",
              "      <td>0.923077</td>\n",
              "      <td>0.967033</td>\n",
              "      <td>0.914453</td>\n",
              "      <td>0.033665</td>\n",
              "      <td>4</td>\n",
              "    </tr>\n",
              "    <tr>\n",
              "      <th>1</th>\n",
              "      <td>0.006960</td>\n",
              "      <td>0.000370</td>\n",
              "      <td>0.003465</td>\n",
              "      <td>0.000321</td>\n",
              "      <td>5</td>\n",
              "      <td>10</td>\n",
              "      <td>30</td>\n",
              "      <td>{'max_depth': 5, 'max_features': 10, 'min_samp...</td>\n",
              "      <td>0.902174</td>\n",
              "      <td>0.879121</td>\n",
              "      <td>0.901099</td>\n",
              "      <td>0.923077</td>\n",
              "      <td>0.967033</td>\n",
              "      <td>0.914501</td>\n",
              "      <td>0.029720</td>\n",
              "      <td>3</td>\n",
              "    </tr>\n",
              "    <tr>\n",
              "      <th>2</th>\n",
              "      <td>0.017233</td>\n",
              "      <td>0.008064</td>\n",
              "      <td>0.006208</td>\n",
              "      <td>0.003164</td>\n",
              "      <td>5</td>\n",
              "      <td>30</td>\n",
              "      <td>10</td>\n",
              "      <td>{'max_depth': 5, 'max_features': 30, 'min_samp...</td>\n",
              "      <td>0.923913</td>\n",
              "      <td>0.901099</td>\n",
              "      <td>0.956044</td>\n",
              "      <td>0.945055</td>\n",
              "      <td>0.912088</td>\n",
              "      <td>0.927640</td>\n",
              "      <td>0.020348</td>\n",
              "      <td>1</td>\n",
              "    </tr>\n",
              "    <tr>\n",
              "      <th>3</th>\n",
              "      <td>0.022037</td>\n",
              "      <td>0.005095</td>\n",
              "      <td>0.007066</td>\n",
              "      <td>0.003150</td>\n",
              "      <td>5</td>\n",
              "      <td>30</td>\n",
              "      <td>30</td>\n",
              "      <td>{'max_depth': 5, 'max_features': 30, 'min_samp...</td>\n",
              "      <td>0.891304</td>\n",
              "      <td>0.901099</td>\n",
              "      <td>0.901099</td>\n",
              "      <td>0.945055</td>\n",
              "      <td>0.923077</td>\n",
              "      <td>0.912327</td>\n",
              "      <td>0.019395</td>\n",
              "      <td>5</td>\n",
              "    </tr>\n",
              "    <tr>\n",
              "      <th>4</th>\n",
              "      <td>0.014862</td>\n",
              "      <td>0.001043</td>\n",
              "      <td>0.003978</td>\n",
              "      <td>0.000679</td>\n",
              "      <td>30</td>\n",
              "      <td>10</td>\n",
              "      <td>10</td>\n",
              "      <td>{'max_depth': 30, 'max_features': 10, 'min_sam...</td>\n",
              "      <td>0.869565</td>\n",
              "      <td>0.890110</td>\n",
              "      <td>0.901099</td>\n",
              "      <td>0.923077</td>\n",
              "      <td>0.956044</td>\n",
              "      <td>0.907979</td>\n",
              "      <td>0.029599</td>\n",
              "      <td>7</td>\n",
              "    </tr>\n",
              "    <tr>\n",
              "      <th>5</th>\n",
              "      <td>0.007575</td>\n",
              "      <td>0.000303</td>\n",
              "      <td>0.003613</td>\n",
              "      <td>0.000454</td>\n",
              "      <td>30</td>\n",
              "      <td>10</td>\n",
              "      <td>30</td>\n",
              "      <td>{'max_depth': 30, 'max_features': 10, 'min_sam...</td>\n",
              "      <td>0.923913</td>\n",
              "      <td>0.868132</td>\n",
              "      <td>0.868132</td>\n",
              "      <td>0.901099</td>\n",
              "      <td>0.967033</td>\n",
              "      <td>0.905662</td>\n",
              "      <td>0.037249</td>\n",
              "      <td>8</td>\n",
              "    </tr>\n",
              "    <tr>\n",
              "      <th>6</th>\n",
              "      <td>0.011956</td>\n",
              "      <td>0.001329</td>\n",
              "      <td>0.005369</td>\n",
              "      <td>0.002684</td>\n",
              "      <td>30</td>\n",
              "      <td>30</td>\n",
              "      <td>10</td>\n",
              "      <td>{'max_depth': 30, 'max_features': 30, 'min_sam...</td>\n",
              "      <td>0.913043</td>\n",
              "      <td>0.901099</td>\n",
              "      <td>0.956044</td>\n",
              "      <td>0.923077</td>\n",
              "      <td>0.912088</td>\n",
              "      <td>0.921070</td>\n",
              "      <td>0.018821</td>\n",
              "      <td>2</td>\n",
              "    </tr>\n",
              "    <tr>\n",
              "      <th>7</th>\n",
              "      <td>0.011459</td>\n",
              "      <td>0.001214</td>\n",
              "      <td>0.003747</td>\n",
              "      <td>0.000117</td>\n",
              "      <td>30</td>\n",
              "      <td>30</td>\n",
              "      <td>30</td>\n",
              "      <td>{'max_depth': 30, 'max_features': 30, 'min_sam...</td>\n",
              "      <td>0.891304</td>\n",
              "      <td>0.901099</td>\n",
              "      <td>0.901099</td>\n",
              "      <td>0.945055</td>\n",
              "      <td>0.923077</td>\n",
              "      <td>0.912327</td>\n",
              "      <td>0.019395</td>\n",
              "      <td>5</td>\n",
              "    </tr>\n",
              "  </tbody>\n",
              "</table>\n",
              "</div>\n",
              "      <button class=\"colab-df-convert\" onclick=\"convertToInteractive('df-fd0f7a22-1505-4a9f-8800-5e184fc2b5b3')\"\n",
              "              title=\"Convert this dataframe to an interactive table.\"\n",
              "              style=\"display:none;\">\n",
              "        \n",
              "  <svg xmlns=\"http://www.w3.org/2000/svg\" height=\"24px\"viewBox=\"0 0 24 24\"\n",
              "       width=\"24px\">\n",
              "    <path d=\"M0 0h24v24H0V0z\" fill=\"none\"/>\n",
              "    <path d=\"M18.56 5.44l.94 2.06.94-2.06 2.06-.94-2.06-.94-.94-2.06-.94 2.06-2.06.94zm-11 1L8.5 8.5l.94-2.06 2.06-.94-2.06-.94L8.5 2.5l-.94 2.06-2.06.94zm10 10l.94 2.06.94-2.06 2.06-.94-2.06-.94-.94-2.06-.94 2.06-2.06.94z\"/><path d=\"M17.41 7.96l-1.37-1.37c-.4-.4-.92-.59-1.43-.59-.52 0-1.04.2-1.43.59L10.3 9.45l-7.72 7.72c-.78.78-.78 2.05 0 2.83L4 21.41c.39.39.9.59 1.41.59.51 0 1.02-.2 1.41-.59l7.78-7.78 2.81-2.81c.8-.78.8-2.07 0-2.86zM5.41 20L4 18.59l7.72-7.72 1.47 1.35L5.41 20z\"/>\n",
              "  </svg>\n",
              "      </button>\n",
              "      \n",
              "  <style>\n",
              "    .colab-df-container {\n",
              "      display:flex;\n",
              "      flex-wrap:wrap;\n",
              "      gap: 12px;\n",
              "    }\n",
              "\n",
              "    .colab-df-convert {\n",
              "      background-color: #E8F0FE;\n",
              "      border: none;\n",
              "      border-radius: 50%;\n",
              "      cursor: pointer;\n",
              "      display: none;\n",
              "      fill: #1967D2;\n",
              "      height: 32px;\n",
              "      padding: 0 0 0 0;\n",
              "      width: 32px;\n",
              "    }\n",
              "\n",
              "    .colab-df-convert:hover {\n",
              "      background-color: #E2EBFA;\n",
              "      box-shadow: 0px 1px 2px rgba(60, 64, 67, 0.3), 0px 1px 3px 1px rgba(60, 64, 67, 0.15);\n",
              "      fill: #174EA6;\n",
              "    }\n",
              "\n",
              "    [theme=dark] .colab-df-convert {\n",
              "      background-color: #3B4455;\n",
              "      fill: #D2E3FC;\n",
              "    }\n",
              "\n",
              "    [theme=dark] .colab-df-convert:hover {\n",
              "      background-color: #434B5C;\n",
              "      box-shadow: 0px 1px 3px 1px rgba(0, 0, 0, 0.15);\n",
              "      filter: drop-shadow(0px 1px 2px rgba(0, 0, 0, 0.3));\n",
              "      fill: #FFFFFF;\n",
              "    }\n",
              "  </style>\n",
              "\n",
              "      <script>\n",
              "        const buttonEl =\n",
              "          document.querySelector('#df-fd0f7a22-1505-4a9f-8800-5e184fc2b5b3 button.colab-df-convert');\n",
              "        buttonEl.style.display =\n",
              "          google.colab.kernel.accessAllowed ? 'block' : 'none';\n",
              "\n",
              "        async function convertToInteractive(key) {\n",
              "          const element = document.querySelector('#df-fd0f7a22-1505-4a9f-8800-5e184fc2b5b3');\n",
              "          const dataTable =\n",
              "            await google.colab.kernel.invokeFunction('convertToInteractive',\n",
              "                                                     [key], {});\n",
              "          if (!dataTable) return;\n",
              "\n",
              "          const docLinkHtml = 'Like what you see? Visit the ' +\n",
              "            '<a target=\"_blank\" href=https://colab.research.google.com/notebooks/data_table.ipynb>data table notebook</a>'\n",
              "            + ' to learn more about interactive tables.';\n",
              "          element.innerHTML = '';\n",
              "          dataTable['output_type'] = 'display_data';\n",
              "          await google.colab.output.renderOutput(dataTable, element);\n",
              "          const docLink = document.createElement('div');\n",
              "          docLink.innerHTML = docLinkHtml;\n",
              "          element.appendChild(docLink);\n",
              "        }\n",
              "      </script>\n",
              "    </div>\n",
              "  </div>\n",
              "  "
            ]
          },
          "metadata": {},
          "execution_count": 11
        }
      ]
    }
  ]
}