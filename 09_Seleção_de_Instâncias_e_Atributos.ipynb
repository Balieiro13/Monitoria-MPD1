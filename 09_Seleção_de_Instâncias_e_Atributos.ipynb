{
  "nbformat": 4,
  "nbformat_minor": 0,
  "metadata": {
    "colab": {
      "provenance": [],
      "toc_visible": true
    },
    "kernelspec": {
      "name": "python3",
      "display_name": "Python 3"
    },
    "language_info": {
      "name": "python"
    }
  },
  "cells": [
    {
      "cell_type": "code",
      "source": [
        "import pandas as pd\n",
        "import matplotlib.pyplot as plt\n",
        "from sklearn.neighbors import KNeighborsClassifier\n",
        "from sklearn.model_selection import train_test_split\n",
        "from sklearn.metrics import classification_report\n",
        "\n",
        "from imblearn.under_sampling import CondensedNearestNeighbour, EditedNearestNeighbours\n",
        "\n",
        "import warnings\n",
        "warnings.filterwarnings('ignore')"
      ],
      "metadata": {
        "id": "pc5C3mfZnr6v"
      },
      "execution_count": 1,
      "outputs": []
    },
    {
      "cell_type": "code",
      "source": [
        "dataset = pd.read_csv('https://raw.githubusercontent.com/JusciAvelino/Monitoria-ModelagemPreditivaDescritiva1/main/Breast%20Cancer%20Wisconsin%20(Diagnostic).csv')"
      ],
      "metadata": {
        "id": "2GXcftD9nkJi"
      },
      "execution_count": 2,
      "outputs": []
    },
    {
      "cell_type": "code",
      "source": [
        "X = dataset.drop([dataset.columns[0]], axis = 1)\n",
        "y = dataset[dataset.columns[0]]"
      ],
      "metadata": {
        "id": "OeZ9bRConynZ"
      },
      "execution_count": 3,
      "outputs": []
    },
    {
      "cell_type": "code",
      "source": [
        "X_train, X_test, y_train, y_test = train_test_split(X, y)"
      ],
      "metadata": {
        "id": "IzwQg2qIrXFH"
      },
      "execution_count": 4,
      "outputs": []
    },
    {
      "cell_type": "code",
      "source": [
        "colors = {\"M\": \"steelblue\", \"B\": \"darkorange\"}\n",
        "markers = {\"M\": \"s\", \"B\": \"^\"}\n",
        "\n",
        "#Função para visualizar uma região 2d, com duas features\n",
        "def plot_2d_space(X, y, f1, f2, colors=colors, markers=markers):\n",
        "    plt.figure()\n",
        "    labels = list(y.unique())\n",
        "    labels.sort()\n",
        "\n",
        "    lines = []\n",
        "    for i in labels:\n",
        "        line = plt.scatter(\n",
        "            X[f1][y==i],\n",
        "            X[f2][y==i], \n",
        "            c=colors[i], \n",
        "            marker=markers[i],\n",
        "            label=i,\n",
        "        )\n",
        "\n",
        "        lines.append(line)\n",
        "\n",
        "    plt.legend(handles=lines)\n",
        "        \n",
        "    plt.show()"
      ],
      "metadata": {
        "id": "CxeT-8ZdFLnA"
      },
      "execution_count": 5,
      "outputs": []
    },
    {
      "cell_type": "code",
      "source": [
        "def percentage(train, resampled):\n",
        "  excluidos = (train-resampled)\n",
        "  percentage = 100 * float(excluidos)/float(train)\n",
        "  return str(percentage) + \"%\""
      ],
      "metadata": {
        "id": "KJr-Slxwt4oe"
      },
      "execution_count": 6,
      "outputs": []
    },
    {
      "cell_type": "code",
      "source": [
        "feature_0 = \"radius_Mean\"\n",
        "feature_1 = \"texture_Mean\"\n",
        "\n",
        "plot_2d_space(X_train, y_train, feature_0, feature_1)"
      ],
      "metadata": {
        "colab": {
          "base_uri": "https://localhost:8080/",
          "height": 265
        },
        "id": "67jgfUbxGjhc",
        "outputId": "a95c67eb-7dd7-4800-8748-ccf8f90af36a"
      },
      "execution_count": 7,
      "outputs": [
        {
          "output_type": "display_data",
          "data": {
            "text/plain": [
              "<Figure size 432x288 with 1 Axes>"
            ],
            "image/png": "[encoded data removed]"
          },
          "metadata": {
            "needs_background": "light"
          }
        }
      ]
    },
    {
      "cell_type": "code",
      "source": [
        "y_train.value_counts()"
      ],
      "metadata": {
        "colab": {
          "base_uri": "https://localhost:8080/"
        },
        "id": "zfVgGyw_HMbR",
        "outputId": "104b1c31-1a80-4b99-8be2-758b9af2fd06"
      },
      "execution_count": 8,
      "outputs": [
        {
          "output_type": "execute_result",
          "data": {
            "text/plain": [
              "B    271\n",
              "M    155\n",
              "Name: diagnosis, dtype: int64"
            ]
          },
          "metadata": {},
          "execution_count": 8
        }
      ]
    },
    {
      "cell_type": "code",
      "source": [
        "knn = KNeighborsClassifier()\n",
        "knn.fit(X_train, y_train)\n",
        "y_pred = knn.predict(X_test)\n",
        "\n",
        "# vamos observar cada uma das classes usando duas features..\n",
        "\n",
        "print(classification_report(y_test, y_pred))"
      ],
      "metadata": {
        "colab": {
          "base_uri": "https://localhost:8080/"
        },
        "id": "5pNQ_noZFkmE",
        "outputId": "a4127354-281f-46ea-8d2e-0f0fb6f62ee3"
      },
      "execution_count": 9,
      "outputs": [
        {
          "output_type": "stream",
          "name": "stdout",
          "text": [
            "              precision    recall  f1-score   support\n",
            "\n",
            "           B       0.89      0.97      0.93        86\n",
            "           M       0.94      0.82      0.88        57\n",
            "\n",
            "    accuracy                           0.91       143\n",
            "   macro avg       0.92      0.89      0.90       143\n",
            "weighted avg       0.91      0.91      0.91       143\n",
            "\n"
          ]
        }
      ]
    },
    {
      "cell_type": "markdown",
      "source": [
        "# **Seleção de instâncias**"
      ],
      "metadata": {
        "id": "LKjt9u9LE-IN"
      }
    },
    {
      "cell_type": "markdown",
      "source": [
        "# **ENN**"
      ],
      "metadata": {
        "id": "hGcS5BX7zx7a"
      }
    },
    {
      "cell_type": "code",
      "source": [
        "enn = EditedNearestNeighbours()\n",
        "X_train_enn, y_train_enn = enn.fit_resample(X_train, y_train)\n",
        "\n",
        "#Classes filtradas usando ENN\n",
        "plot_2d_space(X_train_enn, y_train_enn, feature_0, feature_1)"
      ],
      "metadata": {
        "id": "BDU3j9GRrLra",
        "colab": {
          "base_uri": "https://localhost:8080/",
          "height": 265
        },
        "outputId": "85d3c169-2951-48c7-92fc-c44e232a0313"
      },
      "execution_count": 10,
      "outputs": [
        {
          "output_type": "display_data",
          "data": {
            "text/plain": [
              "<Figure size 432x288 with 1 Axes>"
            ],
            "image/png": "[encoded data removed]"
          },
          "metadata": {
            "needs_background": "light"
          }
        }
      ]
    },
    {
      "cell_type": "code",
      "source": [
        "y_train_enn.value_counts()"
      ],
      "metadata": {
        "colab": {
          "base_uri": "https://localhost:8080/"
        },
        "id": "7g-KvfAqGyax",
        "outputId": "d1da7b7f-5e8c-47e6-a458-10c92092e784"
      },
      "execution_count": 11,
      "outputs": [
        {
          "output_type": "execute_result",
          "data": {
            "text/plain": [
              "B    242\n",
              "M    155\n",
              "Name: diagnosis, dtype: int64"
            ]
          },
          "metadata": {},
          "execution_count": 11
        }
      ]
    },
    {
      "cell_type": "code",
      "source": [
        "print(\"Porcentegem de redução:\", percentage(y_train.count(), y_train_enn.count()))"
      ],
      "metadata": {
        "colab": {
          "base_uri": "https://localhost:8080/"
        },
        "id": "RyBVypw12P91",
        "outputId": "13a37b19-7aed-438a-aa2b-b438bea0f914"
      },
      "execution_count": 12,
      "outputs": [
        {
          "output_type": "stream",
          "name": "stdout",
          "text": [
            "Porcentegem de redução: 6.807511737089202%\n"
          ]
        }
      ]
    },
    {
      "cell_type": "code",
      "source": [
        "model = KNeighborsClassifier()\n",
        "\n",
        "model.fit(X_train_enn, y_train_enn)\n",
        "\n",
        "y_pred = model.predict(X_test)\n",
        "\n",
        "print(classification_report(y_test, y_pred))"
      ],
      "metadata": {
        "colab": {
          "base_uri": "https://localhost:8080/"
        },
        "id": "MC4Il-pAGSCA",
        "outputId": "88d5272a-7a25-4f68-eed3-69878df2b09c"
      },
      "execution_count": 13,
      "outputs": [
        {
          "output_type": "stream",
          "name": "stdout",
          "text": [
            "              precision    recall  f1-score   support\n",
            "\n",
            "           B       0.91      0.93      0.92        86\n",
            "           M       0.89      0.86      0.88        57\n",
            "\n",
            "    accuracy                           0.90       143\n",
            "   macro avg       0.90      0.89      0.90       143\n",
            "weighted avg       0.90      0.90      0.90       143\n",
            "\n"
          ]
        }
      ]
    },
    {
      "cell_type": "markdown",
      "source": [
        "# **CNN**"
      ],
      "metadata": {
        "id": "yVTA0qtcz1IV"
      }
    },
    {
      "cell_type": "code",
      "source": [
        "cnn = CondensedNearestNeighbour()\n",
        "X_train_cnn, y_train_cnn = cnn.fit_resample(X_train, y_train)\n",
        "\n",
        "#Classes filtradas usando CNN\n",
        "plot_2d_space(X_train_cnn, y_train_cnn, feature_0, feature_1)"
      ],
      "metadata": {
        "colab": {
          "base_uri": "https://localhost:8080/",
          "height": 265
        },
        "id": "UaTlU39oyWq5",
        "outputId": "9d3b2e58-70db-4901-feb6-65dbd3699d98"
      },
      "execution_count": 14,
      "outputs": [
        {
          "output_type": "display_data",
          "data": {
            "text/plain": [
              "<Figure size 432x288 with 1 Axes>"
            ],
            "image/png": "[encoded data removed]"
          },
          "metadata": {
            "needs_background": "light"
          }
        }
      ]
    },
    {
      "cell_type": "code",
      "source": [
        "y_train_cnn.value_counts()"
      ],
      "metadata": {
        "colab": {
          "base_uri": "https://localhost:8080/"
        },
        "id": "3fVe44a8Hvv6",
        "outputId": "ec7071e9-e752-4b3a-e476-7d15a0b23610"
      },
      "execution_count": 15,
      "outputs": [
        {
          "output_type": "execute_result",
          "data": {
            "text/plain": [
              "M    155\n",
              "B     36\n",
              "Name: diagnosis, dtype: int64"
            ]
          },
          "metadata": {},
          "execution_count": 15
        }
      ]
    },
    {
      "cell_type": "code",
      "source": [
        "model = KNeighborsClassifier()\n",
        "\n",
        "model.fit(X_train_cnn, y_train_cnn)\n",
        "\n",
        "y_pred = model.predict(X_test)\n",
        "\n",
        "print(classification_report(y_test, y_pred))"
      ],
      "metadata": {
        "colab": {
          "base_uri": "https://localhost:8080/"
        },
        "id": "2Ld3Up-OH19H",
        "outputId": "b12763bc-4307-4eb0-c7af-d19403d844ba"
      },
      "execution_count": 16,
      "outputs": [
        {
          "output_type": "stream",
          "name": "stdout",
          "text": [
            "              precision    recall  f1-score   support\n",
            "\n",
            "           B       0.93      0.95      0.94        86\n",
            "           M       0.93      0.89      0.91        57\n",
            "\n",
            "    accuracy                           0.93       143\n",
            "   macro avg       0.93      0.92      0.93       143\n",
            "weighted avg       0.93      0.93      0.93       143\n",
            "\n"
          ]
        }
      ]
    },
    {
      "cell_type": "code",
      "source": [
        "print(\"Porcentegem de redução:\", percentage(y_train.count(), y_train_cnn.count()))"
      ],
      "metadata": {
        "colab": {
          "base_uri": "https://localhost:8080/"
        },
        "id": "wVJkbKS63KNp",
        "outputId": "a05ae4e0-a02f-4934-c601-12b743acd611"
      },
      "execution_count": 17,
      "outputs": [
        {
          "output_type": "stream",
          "name": "stdout",
          "text": [
            "Porcentegem de redução: 55.16431924882629%\n"
          ]
        }
      ]
    },
    {
      "cell_type": "markdown",
      "source": [
        "# **SELEÇÃO DE ATRIBUTOS**"
      ],
      "metadata": {
        "id": "idQuS8oIK_pB"
      }
    },
    {
      "cell_type": "markdown",
      "source": [
        "# **Filters**"
      ],
      "metadata": {
        "id": "VtmQgj2IMizG"
      }
    },
    {
      "cell_type": "markdown",
      "source": [
        "# Limiar de Variância\n",
        "\n",
        "O limiar de variância é o método mais simples de seleção de features. Caso a feature não tenha determinada variância, ela deve ser removida."
      ],
      "metadata": {
        "id": "80PJFzFSMYbN"
      }
    },
    {
      "cell_type": "code",
      "source": [
        "from sklearn.feature_selection import VarianceThreshold\n",
        "\n",
        "filter_variance = VarianceThreshold(0.8)\n",
        "X_filtered = filter_variance.fit_transform(X)\n",
        "\n",
        "# quantas features conseguimos remover?\n",
        "print(\"Features selecionadas: %d\" %(X_filtered.shape[1]))"
      ],
      "metadata": {
        "colab": {
          "base_uri": "https://localhost:8080/"
        },
        "id": "DaAR0Ke6LJNr",
        "outputId": "45409b5f-7a6e-4096-c487-588ff08d16ff"
      },
      "execution_count": 18,
      "outputs": [
        {
          "output_type": "stream",
          "name": "stdout",
          "text": [
            "Features selecionadas: 10\n"
          ]
        }
      ]
    },
    {
      "cell_type": "code",
      "source": [
        "X_train, X_test, y_train, y_test = train_test_split(X_filtered, y)"
      ],
      "metadata": {
        "id": "Lw7Odw1KL1uD"
      },
      "execution_count": 19,
      "outputs": []
    },
    {
      "cell_type": "code",
      "source": [
        "model = KNeighborsClassifier()\n",
        "\n",
        "model.fit(X_train, y_train)\n",
        "\n",
        "y_pred = model.predict(X_test)\n",
        "\n",
        "print(classification_report(y_test, y_pred))"
      ],
      "metadata": {
        "colab": {
          "base_uri": "https://localhost:8080/"
        },
        "id": "zC4l94ieLzW7",
        "outputId": "f5ad27ea-32c7-4b74-9588-24b604b222d1"
      },
      "execution_count": 20,
      "outputs": [
        {
          "output_type": "stream",
          "name": "stdout",
          "text": [
            "              precision    recall  f1-score   support\n",
            "\n",
            "           B       0.92      0.97      0.94        91\n",
            "           M       0.94      0.85      0.89        52\n",
            "\n",
            "    accuracy                           0.92       143\n",
            "   macro avg       0.93      0.91      0.92       143\n",
            "weighted avg       0.92      0.92      0.92       143\n",
            "\n"
          ]
        }
      ]
    },
    {
      "cell_type": "markdown",
      "source": [
        "# **Wrapper**\n",
        "\n",
        "Aqui, o processo de escolha de features depende de outros classificadores. Escolhemos um classificador linear, onde os coeficientes, ou medida de importância interna ao classificador, são utilizados para escolha das features mais importantes. Esse método é feito de forma recursiva, onde podemos controlar a quantidade de passos."
      ],
      "metadata": {
        "id": "bEDMrfiLMIsk"
      }
    },
    {
      "cell_type": "code",
      "source": [
        "from sklearn.feature_selection import RFE\n",
        "from sklearn.svm import SVC\n",
        "\n",
        "base_estimator = SVC(kernel=\"linear\")\n",
        "rfe = RFE(base_estimator, n_features_to_select=2, step=1)\n",
        "X_filtered = rfe.fit_transform(X, y)\n",
        "\n",
        "print(X_filtered.shape)"
      ],
      "metadata": {
        "colab": {
          "base_uri": "https://localhost:8080/"
        },
        "id": "VhRW6vkQLgCl",
        "outputId": "0554e9b9-48a2-4264-8d78-a7d2bdf77a30"
      },
      "execution_count": 42,
      "outputs": [
        {
          "output_type": "stream",
          "name": "stdout",
          "text": [
            "(569, 2)\n"
          ]
        }
      ]
    },
    {
      "cell_type": "code",
      "source": [
        "# visualizando as features selecionadas\n",
        "df = pd.DataFrame(X_filtered, columns=[0, 1])\n",
        "plot_2d_space(df, y, 0, 1)"
      ],
      "metadata": {
        "colab": {
          "base_uri": "https://localhost:8080/",
          "height": 266
        },
        "id": "BIKbdpeKLh-0",
        "outputId": "7c05c962-dcc3-4bae-bc95-ed789c1300c2"
      },
      "execution_count": 22,
      "outputs": [
        {
          "output_type": "display_data",
          "data": {
            "text/plain": [
              "<Figure size 432x288 with 1 Axes>"
            ],
            "image/png": "[encoded data removed]"
          },
          "metadata": {
            "needs_background": "light"
          }
        }
      ]
    },
    {
      "cell_type": "code",
      "source": [
        "rfe.feature_names_in_"
      ],
      "metadata": {
        "colab": {
          "base_uri": "https://localhost:8080/"
        },
        "id": "j6kI5ZPtGUwb",
        "outputId": "2a8efbb7-47ea-4e51-a368-9b881b2b4140"
      },
      "execution_count": 47,
      "outputs": [
        {
          "output_type": "execute_result",
          "data": {
            "text/plain": [
              "array(['radius_Mean', 'texture_Mean', 'periMeter_Mean', 'area_Mean',\n",
              "       'sMoothness_Mean', 'coMpactness_Mean', 'concavity_Mean',\n",
              "       'concave points_Mean', 'syMMetry_Mean', 'fractal_diMension_Mean',\n",
              "       'radius_se', 'texture_se', 'periMeter_se', 'area_se',\n",
              "       'sMoothness_se', 'coMpactness_se', 'concavity_se',\n",
              "       'concave points_se', 'syMMetry_se', 'fractal_diMension_se',\n",
              "       'radius_worst', 'texture_worst', 'periMeter_worst', 'area_worst',\n",
              "       'sMoothness_worst', 'coMpactness_worst', 'concavity_worst',\n",
              "       'concave points_worst', 'syMMetry_worst',\n",
              "       'fractal_diMension_worst'], dtype=object)"
            ]
          },
          "metadata": {},
          "execution_count": 47
        }
      ]
    },
    {
      "cell_type": "code",
      "source": [
        "rfe.support_"
      ],
      "metadata": {
        "colab": {
          "base_uri": "https://localhost:8080/"
        },
        "id": "5W0V4CLRFPO-",
        "outputId": "6203b83f-bb1a-4950-a78b-cf1e097cb580"
      },
      "execution_count": 45,
      "outputs": [
        {
          "output_type": "execute_result",
          "data": {
            "text/plain": [
              "array([False, False, False, False, False, False, False, False, False,\n",
              "       False, False, False, False, False, False, False, False, False,\n",
              "       False, False, False, False, False, False, False, False,  True,\n",
              "        True, False, False])"
            ]
          },
          "metadata": {},
          "execution_count": 45
        }
      ]
    },
    {
      "cell_type": "code",
      "source": [
        "rfe.ranking_"
      ],
      "metadata": {
        "colab": {
          "base_uri": "https://localhost:8080/"
        },
        "id": "haYUsQU3FYHP",
        "outputId": "1809e914-4e09-42ff-f78f-f35699915507"
      },
      "execution_count": 46,
      "outputs": [
        {
          "output_type": "execute_result",
          "data": {
            "text/plain": [
              "array([ 7, 20, 15, 29, 12, 11,  8,  9, 10, 26, 24,  5, 13, 21, 22, 18, 17,\n",
              "       19, 27, 25,  6, 14, 23, 28,  4,  3,  1,  1,  2, 16])"
            ]
          },
          "metadata": {},
          "execution_count": 46
        }
      ]
    }
  ]
}