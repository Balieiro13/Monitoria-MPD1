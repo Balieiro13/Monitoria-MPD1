{
  "cells": [
    {
      "cell_type": "code",
      "execution_count": 1,
      "metadata": {
        "id": "x55ogCuNnihL"
      },
      "outputs": [],
      "source": [
        "#Bibliotecas de manipualção e visualização de dados\n",
        "import numpy as np\n",
        "import pandas as pd\n",
        "import matplotlib.pyplot as plt\n",
        "from mlxtend.plotting import plot_decision_regions\n",
        "import seaborn as sns\n",
        "\n",
        "#Classes do modelo de aprendizado\n",
        "from sklearn.linear_model import Perceptron\n",
        "from sklearn.neural_network import MLPClassifier\n",
        "\n",
        "#Funções de avaliação dos modelos\n",
        "from sklearn.metrics import classification_report, plot_confusion_matrix\n",
        "from sklearn.model_selection import train_test_split\n",
        "\n",
        "import warnings\n",
        "warnings.filterwarnings('ignore')"
      ]
    },
    {
      "cell_type": "code",
      "execution_count": 2,
      "metadata": {
        "id": "smfBZfLHohSc"
      },
      "outputs": [],
      "source": [
        "#Carregando o dataset\n",
        "dataset = pd.read_csv('https://raw.githubusercontent.com/JusciAvelino/Monitoria-ModelagemPreditivaDescritiva1//main/Iris.csv')"
      ]
    },
    {
      "cell_type": "code",
      "execution_count": 3,
      "metadata": {
        "id": "IVJ101B_okT-"
      },
      "outputs": [],
      "source": [
        "#Vamos usar somente duas features PetalLengthCm e PetalWidthCm\n",
        "X = dataset.iloc[:,[2,3]]\n",
        "y = dataset.iloc[:,[4]]\n",
        "\n",
        "#Separando o conjunto de dados em treinamento e teste\n",
        "X_train, X_test, y_train, y_test = train_test_split(X, y)"
      ]
    },
    {
      "cell_type": "markdown",
      "source": [
        "**Perceptron**\n",
        "\n"
      ],
      "metadata": {
        "id": "f2i3NWDNlMPt"
      }
    },
    {
      "cell_type": "code",
      "execution_count": 4,
      "metadata": {
        "colab": {
          "base_uri": "https://localhost:8080/"
        },
        "id": "xAIHvDmhol_M",
        "outputId": "78f795a2-53fe-4bb9-bb95-e36669173658"
      },
      "outputs": [
        {
          "output_type": "stream",
          "name": "stdout",
          "text": [
            "              precision    recall  f1-score   support\n",
            "\n",
            "      setosa       0.38      1.00      0.56        10\n",
            "  versicolor       0.00      0.00      0.00        15\n",
            "   virginica       1.00      0.92      0.96        13\n",
            "\n",
            "    accuracy                           0.58        38\n",
            "   macro avg       0.46      0.64      0.51        38\n",
            "weighted avg       0.44      0.58      0.47        38\n",
            "\n"
          ]
        }
      ],
      "source": [
        "model = Perceptron()\n",
        "\n",
        "#treinando o modelo\n",
        "model.fit(X_train, y_train)\n",
        "\n",
        "#predição\n",
        "y_pred = model.predict(X_test)\n",
        "\n",
        "#Resultados do classificador\n",
        "print(classification_report(y_test, y_pred))"
      ]
    },
    {
      "cell_type": "code",
      "execution_count": 5,
      "metadata": {
        "colab": {
          "base_uri": "https://localhost:8080/",
          "height": 296
        },
        "id": "rBLOugwDWkf_",
        "outputId": "6440e092-cc7d-4888-c0ac-b91b90532c9a"
      },
      "outputs": [
        {
          "output_type": "execute_result",
          "data": {
            "text/plain": [
              "<sklearn.metrics._plot.confusion_matrix.ConfusionMatrixDisplay at 0x7fd208f8b1d0>"
            ]
          },
          "metadata": {},
          "execution_count": 5
        },
        {
          "output_type": "display_data",
          "data": {
            "text/plain": [
              "<Figure size 432x288 with 2 Axes>"
            ],
            "image/png": "[encoded data removed]"
          },
          "metadata": {
            "needs_background": "light"
          }
        }
      ],
      "source": [
        "plot_confusion_matrix(model, X_test, y_test)"
      ]
    },
    {
      "cell_type": "markdown",
      "source": [
        "**MLP**\n",
        "\n",
        "Alguns parâmetros importantes no MLP:\n",
        "\n",
        "* **hidden_layer_sizes**: Tupla que controla a profundidade (quantidade de camadas) e números de neurônios na por cada camada escondida. Por exemplo: (100, 10) cria uma rede com 100 neuronios na primeira camada escondida e 10 na segunda camada.\n",
        "\n",
        "* **learning_rate_init**: padrão=0,001. A taxa de aprendizado inicial usada. Ele controla o tamanho do passo na atualização dos pesos.\n",
        "\n",
        "* **activation**: Define funções de ativação {‘identity’, ‘logistic’, ‘tanh’, ‘relu’}.\n",
        "\n",
        "* **max_iter**: padrão=200. Número máximo de iterações, caso o modelo não atinja convergência.\n",
        "\n",
        "* **tol**: Caso a função de custo no treinamento não melhorar mais do que tol, é considerado que o modelo atingiu convergência.\n",
        "\n",
        "* **early_stopping**: padrão=False. Se esse parâmetro for verdadeiro, separa automaticamente uma fração do dataset de treino em um dataset de validação, de tamanho validation_fraction. Se a interrupção antecipada deve ser usada para encerrar o treinamento quando a pontuação de validação não estiver melhorando\n",
        "\n",
        "* **validation_fraction**: padrão=0.1. Representando 10% do dataset para validação.\n",
        "\n",
        "* **n_iter_no_change**: padrão=10. Número máximo de épocas em que o algoritmo deve parar caso não melhore mais que tol."
      ],
      "metadata": {
        "id": "Z29L27pYlQ0y"
      }
    },
    {
      "cell_type": "code",
      "execution_count": 6,
      "metadata": {
        "colab": {
          "base_uri": "https://localhost:8080/"
        },
        "id": "AUtxhYRPSs_6",
        "outputId": "f50f9253-c305-4e86-9803-3c8c07f1a827"
      },
      "outputs": [
        {
          "output_type": "stream",
          "name": "stdout",
          "text": [
            "              precision    recall  f1-score   support\n",
            "\n",
            "      setosa       1.00      1.00      1.00        10\n",
            "  versicolor       1.00      0.60      0.75        15\n",
            "   virginica       0.68      1.00      0.81        13\n",
            "\n",
            "    accuracy                           0.84        38\n",
            "   macro avg       0.89      0.87      0.85        38\n",
            "weighted avg       0.89      0.84      0.84        38\n",
            "\n"
          ]
        }
      ],
      "source": [
        "model = MLPClassifier()\n",
        "#treinando o modelo\n",
        "model.fit(X_train, y_train)\n",
        "\n",
        "#predição\n",
        "y_pred = model.predict(X_test)\n",
        "\n",
        "#Resultados do classificador\n",
        "print(classification_report(y_test, y_pred))"
      ]
    },
    {
      "cell_type": "code",
      "execution_count": 7,
      "metadata": {
        "colab": {
          "base_uri": "https://localhost:8080/",
          "height": 296
        },
        "id": "Gs_v1zlCWOZF",
        "outputId": "016043ff-2269-4bc3-e2bd-6102bc6c9032"
      },
      "outputs": [
        {
          "output_type": "execute_result",
          "data": {
            "text/plain": [
              "<sklearn.metrics._plot.confusion_matrix.ConfusionMatrixDisplay at 0x7fd1f1584650>"
            ]
          },
          "metadata": {},
          "execution_count": 7
        },
        {
          "output_type": "display_data",
          "data": {
            "text/plain": [
              "<Figure size 432x288 with 2 Axes>"
            ],
            "image/png": "[encoded data removed]"
          },
          "metadata": {
            "needs_background": "light"
          }
        }
      ],
      "source": [
        "plot_confusion_matrix(model, X_test, y_test)"
      ]
    },
    {
      "cell_type": "markdown",
      "source": [
        "**E COM 4 FEATURES???**"
      ],
      "metadata": {
        "id": "0cSIkFrWnpVL"
      }
    },
    {
      "cell_type": "code",
      "source": [
        "#Vamos usar somente duas features SepalLengthCm e SepalWidthCm\n",
        "X = dataset.iloc[:,0:4]\n",
        "y = dataset.iloc[:,[4]]\n",
        "\n",
        "#Separando o conjunto de dados em treinamento e teste\n",
        "X_train, X_test, y_train, y_test = train_test_split(X, y)"
      ],
      "metadata": {
        "id": "ZombQR4Gm3Ob"
      },
      "execution_count": 8,
      "outputs": []
    },
    {
      "cell_type": "code",
      "source": [
        "model = MLPClassifier()\n",
        "#treinando o modelo\n",
        "model.fit(X_train, y_train)\n",
        "\n",
        "#predição\n",
        "y_pred = model.predict(X_test)\n",
        "\n",
        "#Resultados do classificador\n",
        "print(classification_report(y_test, y_pred))"
      ],
      "metadata": {
        "colab": {
          "base_uri": "https://localhost:8080/"
        },
        "id": "OmUrtLoHm50_",
        "outputId": "629da1d4-b2d4-4a74-b165-39280aaf0ca4"
      },
      "execution_count": 9,
      "outputs": [
        {
          "output_type": "stream",
          "name": "stdout",
          "text": [
            "              precision    recall  f1-score   support\n",
            "\n",
            "      setosa       1.00      1.00      1.00        12\n",
            "  versicolor       1.00      0.93      0.96        14\n",
            "   virginica       0.92      1.00      0.96        12\n",
            "\n",
            "    accuracy                           0.97        38\n",
            "   macro avg       0.97      0.98      0.97        38\n",
            "weighted avg       0.98      0.97      0.97        38\n",
            "\n"
          ]
        }
      ]
    },
    {
      "cell_type": "code",
      "source": [
        "plt.plot(model.loss_curve_)"
      ],
      "metadata": {
        "colab": {
          "base_uri": "https://localhost:8080/",
          "height": 282
        },
        "id": "R-sdKFbpJo9N",
        "outputId": "3c4074f1-697a-487c-b41f-7630f9d68ead"
      },
      "execution_count": 10,
      "outputs": [
        {
          "output_type": "execute_result",
          "data": {
            "text/plain": [
              "[<matplotlib.lines.Line2D at 0x7fd1f0feb6d0>]"
            ]
          },
          "metadata": {},
          "execution_count": 10
        },
        {
          "output_type": "display_data",
          "data": {
            "text/plain": [
              "<Figure size 432x288 with 1 Axes>"
            ],
            "image/png": "[encoded data removed]"
          },
          "metadata": {
            "needs_background": "light"
          }
        }
      ]
    }
  ],
  "metadata": {
    "colab": {
      "name": "05-Perceptron e MLP.ipynb",
      "provenance": [],
      "collapsed_sections": []
    },
    "kernelspec": {
      "display_name": "Python 3",
      "name": "python3"
    },
    "language_info": {
      "name": "python"
    }
  },
  "nbformat": 4,
  "nbformat_minor": 0
}