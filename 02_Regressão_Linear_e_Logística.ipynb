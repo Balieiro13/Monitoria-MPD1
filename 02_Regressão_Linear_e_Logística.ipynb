{
  "cells": [
    {
      "cell_type": "markdown",
      "metadata": {
        "id": "Ufch4bb1l7dX"
      },
      "source": [
        "**IMPORTANDO BIBLIOTECAS**"
      ]
    },
    {
      "cell_type": "code",
      "execution_count": 1,
      "metadata": {
        "id": "iBKVKN6RJIR3"
      },
      "outputs": [],
      "source": [
        "#Bibliotecas de manipualção e visualização de dados\n",
        "import numpy as np\n",
        "import pandas as pd\n",
        "import matplotlib.pyplot as plt\n",
        "from mlxtend.plotting import plot_decision_regions\n",
        "import seaborn as sns\n",
        "\n",
        "#Classes do modelo de aprendizado\n",
        "from sklearn.linear_model import LogisticRegression, LinearRegression\n",
        "\n",
        "#Funções de avaliação dos modelos\n",
        "from sklearn.metrics import classification_report, mean_squared_error, r2_score\n",
        "from sklearn.model_selection import train_test_split\n",
        "\n",
        "import warnings\n",
        "warnings.filterwarnings('ignore')"
      ]
    },
    {
      "cell_type": "code",
      "execution_count": 2,
      "metadata": {
        "id": "wE-YBsGLJJws"
      },
      "outputs": [],
      "source": [
        "#Carregando o dataset\n",
        "dataset = pd.read_csv('datasets/Iris.csv')"
      ]
    },
    {
      "cell_type": "code",
      "execution_count": 3,
      "metadata": {
        "colab": {
          "base_uri": "https://localhost:8080/",
          "height": 424
        },
        "id": "RK9TPkMmJMgC",
        "outputId": "d94327f9-cb3c-430c-e1f3-da8a1cf28e54"
      },
      "outputs": [
        {
          "data": {
            "text/html": [
              "<div>\n",
              "<style scoped>\n",
              "    .dataframe tbody tr th:only-of-type {\n",
              "        vertical-align: middle;\n",
              "    }\n",
              "\n",
              "    .dataframe tbody tr th {\n",
              "        vertical-align: top;\n",
              "    }\n",
              "\n",
              "    .dataframe thead th {\n",
              "        text-align: right;\n",
              "    }\n",
              "</style>\n",
              "<table border=\"1\" class=\"dataframe\">\n",
              "  <thead>\n",
              "    <tr style=\"text-align: right;\">\n",
              "      <th></th>\n",
              "      <th>SepalLengthCm</th>\n",
              "      <th>SepalWidthCm</th>\n",
              "      <th>PetalLengthCm</th>\n",
              "      <th>PetalWidthCm</th>\n",
              "      <th>Species</th>\n",
              "    </tr>\n",
              "  </thead>\n",
              "  <tbody>\n",
              "    <tr>\n",
              "      <th>0</th>\n",
              "      <td>5.1</td>\n",
              "      <td>3.5</td>\n",
              "      <td>1.4</td>\n",
              "      <td>0.2</td>\n",
              "      <td>0</td>\n",
              "    </tr>\n",
              "    <tr>\n",
              "      <th>1</th>\n",
              "      <td>4.9</td>\n",
              "      <td>3.0</td>\n",
              "      <td>1.4</td>\n",
              "      <td>0.2</td>\n",
              "      <td>0</td>\n",
              "    </tr>\n",
              "    <tr>\n",
              "      <th>2</th>\n",
              "      <td>4.7</td>\n",
              "      <td>3.2</td>\n",
              "      <td>1.3</td>\n",
              "      <td>0.2</td>\n",
              "      <td>0</td>\n",
              "    </tr>\n",
              "    <tr>\n",
              "      <th>3</th>\n",
              "      <td>4.6</td>\n",
              "      <td>3.1</td>\n",
              "      <td>1.5</td>\n",
              "      <td>0.2</td>\n",
              "      <td>0</td>\n",
              "    </tr>\n",
              "    <tr>\n",
              "      <th>4</th>\n",
              "      <td>5.0</td>\n",
              "      <td>3.6</td>\n",
              "      <td>1.4</td>\n",
              "      <td>0.2</td>\n",
              "      <td>0</td>\n",
              "    </tr>\n",
              "    <tr>\n",
              "      <th>...</th>\n",
              "      <td>...</td>\n",
              "      <td>...</td>\n",
              "      <td>...</td>\n",
              "      <td>...</td>\n",
              "      <td>...</td>\n",
              "    </tr>\n",
              "    <tr>\n",
              "      <th>145</th>\n",
              "      <td>6.7</td>\n",
              "      <td>3.0</td>\n",
              "      <td>5.2</td>\n",
              "      <td>2.3</td>\n",
              "      <td>2</td>\n",
              "    </tr>\n",
              "    <tr>\n",
              "      <th>146</th>\n",
              "      <td>6.3</td>\n",
              "      <td>2.5</td>\n",
              "      <td>5.0</td>\n",
              "      <td>1.9</td>\n",
              "      <td>2</td>\n",
              "    </tr>\n",
              "    <tr>\n",
              "      <th>147</th>\n",
              "      <td>6.5</td>\n",
              "      <td>3.0</td>\n",
              "      <td>5.2</td>\n",
              "      <td>2.0</td>\n",
              "      <td>2</td>\n",
              "    </tr>\n",
              "    <tr>\n",
              "      <th>148</th>\n",
              "      <td>6.2</td>\n",
              "      <td>3.4</td>\n",
              "      <td>5.4</td>\n",
              "      <td>2.3</td>\n",
              "      <td>2</td>\n",
              "    </tr>\n",
              "    <tr>\n",
              "      <th>149</th>\n",
              "      <td>5.9</td>\n",
              "      <td>3.0</td>\n",
              "      <td>5.1</td>\n",
              "      <td>1.8</td>\n",
              "      <td>2</td>\n",
              "    </tr>\n",
              "  </tbody>\n",
              "</table>\n",
              "<p>150 rows × 5 columns</p>\n",
              "</div>"
            ],
            "text/plain": [
              "     SepalLengthCm  SepalWidthCm  PetalLengthCm  PetalWidthCm  Species\n",
              "0              5.1           3.5            1.4           0.2        0\n",
              "1              4.9           3.0            1.4           0.2        0\n",
              "2              4.7           3.2            1.3           0.2        0\n",
              "3              4.6           3.1            1.5           0.2        0\n",
              "4              5.0           3.6            1.4           0.2        0\n",
              "..             ...           ...            ...           ...      ...\n",
              "145            6.7           3.0            5.2           2.3        2\n",
              "146            6.3           2.5            5.0           1.9        2\n",
              "147            6.5           3.0            5.2           2.0        2\n",
              "148            6.2           3.4            5.4           2.3        2\n",
              "149            5.9           3.0            5.1           1.8        2\n",
              "\n",
              "[150 rows x 5 columns]"
            ]
          },
          "execution_count": 3,
          "metadata": {},
          "output_type": "execute_result"
        }
      ],
      "source": [
        "#Mapeando os valores da classe para inteiro (para fins de visualização da região de decisão)\n",
        "dataset['Species'] = pd.factorize(dataset['Species'])[0]\n",
        "dataset"
      ]
    },
    {
      "cell_type": "markdown",
      "metadata": {
        "id": "xSoq341FGVI-"
      },
      "source": [
        "**SEPARANDO O CONJUNTO DE DADOS**"
      ]
    },
    {
      "cell_type": "code",
      "execution_count": 5,
      "metadata": {
        "id": "Ikvor-24JPa1"
      },
      "outputs": [],
      "source": [
        "#Vamos usar somente duas features SepalLengthCm e SepalWidthCm\n",
        "X = dataset.iloc[:,[0,1,2,3]]\n",
        "y = dataset.iloc[:,[4]]\n",
        "\n",
        "#Separando o conjunto de dados em treinamento e teste\n",
        "X_train, X_test, y_train, y_test = train_test_split(X, y)"
      ]
    },
    {
      "cell_type": "markdown",
      "metadata": {
        "id": "USML-Y6YGZnD"
      },
      "source": [
        "**TREINAMENTO DO MODELO - REGRESSÃO LOGÍSTICA**"
      ]
    },
    {
      "cell_type": "code",
      "execution_count": 6,
      "metadata": {
        "colab": {
          "base_uri": "https://localhost:8080/"
        },
        "id": "hixm2ZGTJS5s",
        "outputId": "21ae65b7-27c6-4ced-90e4-d3f94b465c52"
      },
      "outputs": [
        {
          "name": "stdout",
          "output_type": "stream",
          "text": [
            "              precision    recall  f1-score   support\n",
            "\n",
            "           0       1.00      1.00      1.00        16\n",
            "           1       1.00      0.92      0.96        12\n",
            "           2       0.91      1.00      0.95        10\n",
            "\n",
            "    accuracy                           0.97        38\n",
            "   macro avg       0.97      0.97      0.97        38\n",
            "weighted avg       0.98      0.97      0.97        38\n",
            "\n"
          ]
        }
      ],
      "source": [
        "model = LogisticRegression()\n",
        "#treinando o modelo\n",
        "model.fit(X_train, y_train)\n",
        "\n",
        "#predição\n",
        "y_pred = model.predict(X_test)\n",
        "\n",
        "#Resultados do classificador\n",
        "print(classification_report(y_test, y_pred))"
      ]
    },
    {
      "cell_type": "markdown",
      "metadata": {
        "id": "V1FveOeNGi9-"
      },
      "source": [
        "**REGIÃO DE DECISÃO**"
      ]
    },
    {
      "cell_type": "code",
      "execution_count": 7,
      "metadata": {
        "colab": {
          "base_uri": "https://localhost:8080/",
          "height": 295
        },
        "id": "GXgh-EXGJemj",
        "outputId": "039fd777-e036-4b9d-e72e-9ed9ff2b9514"
      },
      "outputs": [
        {
          "ename": "ValueError",
          "evalue": "X has 2 features, but LogisticRegression is expecting 4 features as input.",
          "output_type": "error",
          "traceback": [
            "\u001b[1;31m---------------------------------------------------------------------------\u001b[0m",
            "\u001b[1;31mValueError\u001b[0m                                Traceback (most recent call last)",
            "\u001b[1;32mc:\\Users\\balieiro\\Documents\\Embraer\\MPD1\\Monitoria-MPD1\\02_Regressão_Linear_e_Logística.ipynb Cell 10\u001b[0m in \u001b[0;36m<cell line: 1>\u001b[1;34m()\u001b[0m\n\u001b[1;32m----> <a href='vscode-notebook-cell:/c%3A/Users/balieiro/Documents/Embraer/MPD1/Monitoria-MPD1/02_Regress%C3%A3o_Linear_e_Log%C3%ADstica.ipynb#X12sZmlsZQ%3D%3D?line=0'>1</a>\u001b[0m plot_decision_regions(np\u001b[39m.\u001b[39;49marray([X_test[\u001b[39m\"\u001b[39;49m\u001b[39mSepalLengthCm\u001b[39;49m\u001b[39m\"\u001b[39;49m]\u001b[39m.\u001b[39;49mvalues, X_test[\u001b[39m\"\u001b[39;49m\u001b[39mSepalWidthCm\u001b[39;49m\u001b[39m\"\u001b[39;49m]\u001b[39m.\u001b[39;49mvalues])\u001b[39m.\u001b[39;49mT, y_test\u001b[39m.\u001b[39;49mvalues\u001b[39m.\u001b[39;49mreshape(\u001b[39m-\u001b[39;49m\u001b[39m1\u001b[39;49m,\u001b[39m1\u001b[39;49m)\u001b[39m.\u001b[39;49mT[\u001b[39m0\u001b[39;49m], model)\n\u001b[0;32m      <a href='vscode-notebook-cell:/c%3A/Users/balieiro/Documents/Embraer/MPD1/Monitoria-MPD1/02_Regress%C3%A3o_Linear_e_Log%C3%ADstica.ipynb#X12sZmlsZQ%3D%3D?line=1'>2</a>\u001b[0m plt\u001b[39m.\u001b[39mxlabel(\u001b[39m\"\u001b[39m\u001b[39mSepalLengthCm\u001b[39m\u001b[39m\"\u001b[39m)\n\u001b[0;32m      <a href='vscode-notebook-cell:/c%3A/Users/balieiro/Documents/Embraer/MPD1/Monitoria-MPD1/02_Regress%C3%A3o_Linear_e_Log%C3%ADstica.ipynb#X12sZmlsZQ%3D%3D?line=2'>3</a>\u001b[0m plt\u001b[39m.\u001b[39mylabel(\u001b[39m\"\u001b[39m\u001b[39mSepalWidthCm\u001b[39m\u001b[39m\"\u001b[39m)\n",
            "File \u001b[1;32m~\\AppData\\Local\\Packages\\PythonSoftwareFoundation.Python.3.10_qbz5n2kfra8p0\\LocalCache\\local-packages\\Python310\\site-packages\\mlxtend\\plotting\\decision_regions.py:249\u001b[0m, in \u001b[0;36mplot_decision_regions\u001b[1;34m(X, y, clf, feature_index, filler_feature_values, filler_feature_ranges, ax, X_highlight, zoom_factor, legend, hide_spines, markers, colors, scatter_kwargs, contourf_kwargs, contour_kwargs, scatter_highlight_kwargs)\u001b[0m\n\u001b[0;32m    247\u001b[0m         \u001b[39mfor\u001b[39;00m feature_idx \u001b[39min\u001b[39;00m filler_feature_values:\n\u001b[0;32m    248\u001b[0m             X_predict[:, feature_idx] \u001b[39m=\u001b[39m filler_feature_values[feature_idx]\n\u001b[1;32m--> 249\u001b[0m Z \u001b[39m=\u001b[39m clf\u001b[39m.\u001b[39;49mpredict(X_predict\u001b[39m.\u001b[39;49mastype(X\u001b[39m.\u001b[39;49mdtype))\n\u001b[0;32m    250\u001b[0m Z \u001b[39m=\u001b[39m Z\u001b[39m.\u001b[39mreshape(xx\u001b[39m.\u001b[39mshape)\n\u001b[0;32m    251\u001b[0m \u001b[39m# Plot decisoin region\u001b[39;00m\n\u001b[0;32m    252\u001b[0m \u001b[39m# Make sure contourf_kwargs has backwards compatible defaults\u001b[39;00m\n",
            "File \u001b[1;32m~\\AppData\\Local\\Packages\\PythonSoftwareFoundation.Python.3.10_qbz5n2kfra8p0\\LocalCache\\local-packages\\Python310\\site-packages\\sklearn\\linear_model\\_base.py:447\u001b[0m, in \u001b[0;36mLinearClassifierMixin.predict\u001b[1;34m(self, X)\u001b[0m\n\u001b[0;32m    433\u001b[0m \u001b[39mdef\u001b[39;00m \u001b[39mpredict\u001b[39m(\u001b[39mself\u001b[39m, X):\n\u001b[0;32m    434\u001b[0m     \u001b[39m\"\"\"\u001b[39;00m\n\u001b[0;32m    435\u001b[0m \u001b[39m    Predict class labels for samples in X.\u001b[39;00m\n\u001b[0;32m    436\u001b[0m \n\u001b[1;32m   (...)\u001b[0m\n\u001b[0;32m    445\u001b[0m \u001b[39m        Vector containing the class labels for each sample.\u001b[39;00m\n\u001b[0;32m    446\u001b[0m \u001b[39m    \"\"\"\u001b[39;00m\n\u001b[1;32m--> 447\u001b[0m     scores \u001b[39m=\u001b[39m \u001b[39mself\u001b[39;49m\u001b[39m.\u001b[39;49mdecision_function(X)\n\u001b[0;32m    448\u001b[0m     \u001b[39mif\u001b[39;00m \u001b[39mlen\u001b[39m(scores\u001b[39m.\u001b[39mshape) \u001b[39m==\u001b[39m \u001b[39m1\u001b[39m:\n\u001b[0;32m    449\u001b[0m         indices \u001b[39m=\u001b[39m (scores \u001b[39m>\u001b[39m \u001b[39m0\u001b[39m)\u001b[39m.\u001b[39mastype(\u001b[39mint\u001b[39m)\n",
            "File \u001b[1;32m~\\AppData\\Local\\Packages\\PythonSoftwareFoundation.Python.3.10_qbz5n2kfra8p0\\LocalCache\\local-packages\\Python310\\site-packages\\sklearn\\linear_model\\_base.py:429\u001b[0m, in \u001b[0;36mLinearClassifierMixin.decision_function\u001b[1;34m(self, X)\u001b[0m\n\u001b[0;32m    409\u001b[0m \u001b[39m\"\"\"\u001b[39;00m\n\u001b[0;32m    410\u001b[0m \u001b[39mPredict confidence scores for samples.\u001b[39;00m\n\u001b[0;32m    411\u001b[0m \n\u001b[1;32m   (...)\u001b[0m\n\u001b[0;32m    425\u001b[0m \u001b[39m    this class would be predicted.\u001b[39;00m\n\u001b[0;32m    426\u001b[0m \u001b[39m\"\"\"\u001b[39;00m\n\u001b[0;32m    427\u001b[0m check_is_fitted(\u001b[39mself\u001b[39m)\n\u001b[1;32m--> 429\u001b[0m X \u001b[39m=\u001b[39m \u001b[39mself\u001b[39;49m\u001b[39m.\u001b[39;49m_validate_data(X, accept_sparse\u001b[39m=\u001b[39;49m\u001b[39m\"\u001b[39;49m\u001b[39mcsr\u001b[39;49m\u001b[39m\"\u001b[39;49m, reset\u001b[39m=\u001b[39;49m\u001b[39mFalse\u001b[39;49;00m)\n\u001b[0;32m    430\u001b[0m scores \u001b[39m=\u001b[39m safe_sparse_dot(X, \u001b[39mself\u001b[39m\u001b[39m.\u001b[39mcoef_\u001b[39m.\u001b[39mT, dense_output\u001b[39m=\u001b[39m\u001b[39mTrue\u001b[39;00m) \u001b[39m+\u001b[39m \u001b[39mself\u001b[39m\u001b[39m.\u001b[39mintercept_\n\u001b[0;32m    431\u001b[0m \u001b[39mreturn\u001b[39;00m scores\u001b[39m.\u001b[39mravel() \u001b[39mif\u001b[39;00m scores\u001b[39m.\u001b[39mshape[\u001b[39m1\u001b[39m] \u001b[39m==\u001b[39m \u001b[39m1\u001b[39m \u001b[39melse\u001b[39;00m scores\n",
            "File \u001b[1;32m~\\AppData\\Local\\Packages\\PythonSoftwareFoundation.Python.3.10_qbz5n2kfra8p0\\LocalCache\\local-packages\\Python310\\site-packages\\sklearn\\base.py:600\u001b[0m, in \u001b[0;36mBaseEstimator._validate_data\u001b[1;34m(self, X, y, reset, validate_separately, **check_params)\u001b[0m\n\u001b[0;32m    597\u001b[0m     out \u001b[39m=\u001b[39m X, y\n\u001b[0;32m    599\u001b[0m \u001b[39mif\u001b[39;00m \u001b[39mnot\u001b[39;00m no_val_X \u001b[39mand\u001b[39;00m check_params\u001b[39m.\u001b[39mget(\u001b[39m\"\u001b[39m\u001b[39mensure_2d\u001b[39m\u001b[39m\"\u001b[39m, \u001b[39mTrue\u001b[39;00m):\n\u001b[1;32m--> 600\u001b[0m     \u001b[39mself\u001b[39;49m\u001b[39m.\u001b[39;49m_check_n_features(X, reset\u001b[39m=\u001b[39;49mreset)\n\u001b[0;32m    602\u001b[0m \u001b[39mreturn\u001b[39;00m out\n",
            "File \u001b[1;32m~\\AppData\\Local\\Packages\\PythonSoftwareFoundation.Python.3.10_qbz5n2kfra8p0\\LocalCache\\local-packages\\Python310\\site-packages\\sklearn\\base.py:400\u001b[0m, in \u001b[0;36mBaseEstimator._check_n_features\u001b[1;34m(self, X, reset)\u001b[0m\n\u001b[0;32m    397\u001b[0m     \u001b[39mreturn\u001b[39;00m\n\u001b[0;32m    399\u001b[0m \u001b[39mif\u001b[39;00m n_features \u001b[39m!=\u001b[39m \u001b[39mself\u001b[39m\u001b[39m.\u001b[39mn_features_in_:\n\u001b[1;32m--> 400\u001b[0m     \u001b[39mraise\u001b[39;00m \u001b[39mValueError\u001b[39;00m(\n\u001b[0;32m    401\u001b[0m         \u001b[39mf\u001b[39m\u001b[39m\"\u001b[39m\u001b[39mX has \u001b[39m\u001b[39m{\u001b[39;00mn_features\u001b[39m}\u001b[39;00m\u001b[39m features, but \u001b[39m\u001b[39m{\u001b[39;00m\u001b[39mself\u001b[39m\u001b[39m.\u001b[39m\u001b[39m__class__\u001b[39m\u001b[39m.\u001b[39m\u001b[39m__name__\u001b[39m\u001b[39m}\u001b[39;00m\u001b[39m \u001b[39m\u001b[39m\"\u001b[39m\n\u001b[0;32m    402\u001b[0m         \u001b[39mf\u001b[39m\u001b[39m\"\u001b[39m\u001b[39mis expecting \u001b[39m\u001b[39m{\u001b[39;00m\u001b[39mself\u001b[39m\u001b[39m.\u001b[39mn_features_in_\u001b[39m}\u001b[39;00m\u001b[39m features as input.\u001b[39m\u001b[39m\"\u001b[39m\n\u001b[0;32m    403\u001b[0m     )\n",
            "\u001b[1;31mValueError\u001b[0m: X has 2 features, but LogisticRegression is expecting 4 features as input."
          ]
        },
        {
          "data": {
            "image/png": "[encoded data removed]",
            "text/plain": [
              "<Figure size 432x288 with 1 Axes>"
            ]
          },
          "metadata": {
            "needs_background": "light"
          },
          "output_type": "display_data"
        }
      ],
      "source": [
        "plot_decision_regions(np.array([X_test[\"SepalLengthCm\"].values, X_test[\"SepalWidthCm\"].values]).T, y_test.values.reshape(-1,1).T[0], model)\n",
        "plt.xlabel(\"SepalLengthCm\")\n",
        "plt.ylabel(\"SepalWidthCm\")\n",
        "\n",
        "plt.title(model.__class__.__name__)\n",
        "plt.show()"
      ]
    },
    {
      "cell_type": "markdown",
      "metadata": {
        "id": "xsXmipfZLTxn"
      },
      "source": [
        "**REGRESSÃO LINEAR**"
      ]
    },
    {
      "cell_type": "code",
      "execution_count": 8,
      "metadata": {
        "id": "jIx9JBJAEr8u"
      },
      "outputs": [],
      "source": [
        "dataset_R = pd.read_csv('datasets/house.csv')"
      ]
    },
    {
      "cell_type": "markdown",
      "metadata": {
        "id": "GVY_VuZQgcfi"
      },
      "source": [
        "**House**: A tarefa é prever o preço médio da casa na região com base na composição demográfica e no estado do mercado imobiliário na região."
      ]
    },
    {
      "cell_type": "code",
      "execution_count": 9,
      "metadata": {
        "colab": {
          "base_uri": "https://localhost:8080/",
          "height": 488
        },
        "id": "wyubr1u3gdJZ",
        "outputId": "08f7a936-98eb-45bc-ff11-160da1c4e62c"
      },
      "outputs": [
        {
          "data": {
            "text/html": [
              "<div>\n",
              "<style scoped>\n",
              "    .dataframe tbody tr th:only-of-type {\n",
              "        vertical-align: middle;\n",
              "    }\n",
              "\n",
              "    .dataframe tbody tr th {\n",
              "        vertical-align: top;\n",
              "    }\n",
              "\n",
              "    .dataframe thead th {\n",
              "        text-align: right;\n",
              "    }\n",
              "</style>\n",
              "<table border=\"1\" class=\"dataframe\">\n",
              "  <thead>\n",
              "    <tr style=\"text-align: right;\">\n",
              "      <th></th>\n",
              "      <th>Price</th>\n",
              "      <th>P1</th>\n",
              "      <th>P5p1</th>\n",
              "      <th>P6p2</th>\n",
              "      <th>P11p4</th>\n",
              "      <th>P14p9</th>\n",
              "      <th>P15p1</th>\n",
              "      <th>P15p3</th>\n",
              "      <th>P16p2</th>\n",
              "      <th>P18p2</th>\n",
              "      <th>P27p4</th>\n",
              "      <th>H2p2</th>\n",
              "      <th>H8p2</th>\n",
              "      <th>H10p1</th>\n",
              "      <th>H13p1</th>\n",
              "      <th>H18pA</th>\n",
              "      <th>H40p4</th>\n",
              "    </tr>\n",
              "  </thead>\n",
              "  <tbody>\n",
              "    <tr>\n",
              "      <th>0</th>\n",
              "      <td>14999</td>\n",
              "      <td>219</td>\n",
              "      <td>0.506849</td>\n",
              "      <td>0.031963</td>\n",
              "      <td>0.146119</td>\n",
              "      <td>0.101852</td>\n",
              "      <td>0.876712</td>\n",
              "      <td>0.000000</td>\n",
              "      <td>0.746988</td>\n",
              "      <td>0.012048</td>\n",
              "      <td>0.060241</td>\n",
              "      <td>0.231482</td>\n",
              "      <td>0.024096</td>\n",
              "      <td>0.987952</td>\n",
              "      <td>0.351852</td>\n",
              "      <td>0.000000</td>\n",
              "      <td>0.800000</td>\n",
              "    </tr>\n",
              "    <tr>\n",
              "      <th>1</th>\n",
              "      <td>106200</td>\n",
              "      <td>2273</td>\n",
              "      <td>0.495381</td>\n",
              "      <td>0.018918</td>\n",
              "      <td>0.067312</td>\n",
              "      <td>0.045336</td>\n",
              "      <td>0.794545</td>\n",
              "      <td>0.016718</td>\n",
              "      <td>0.641053</td>\n",
              "      <td>0.002105</td>\n",
              "      <td>0.076842</td>\n",
              "      <td>0.064961</td>\n",
              "      <td>0.017895</td>\n",
              "      <td>0.997895</td>\n",
              "      <td>0.170276</td>\n",
              "      <td>0.054217</td>\n",
              "      <td>0.258064</td>\n",
              "    </tr>\n",
              "    <tr>\n",
              "      <th>2</th>\n",
              "      <td>14999</td>\n",
              "      <td>564</td>\n",
              "      <td>0.457447</td>\n",
              "      <td>0.058511</td>\n",
              "      <td>0.299645</td>\n",
              "      <td>0.238562</td>\n",
              "      <td>0.764184</td>\n",
              "      <td>0.010638</td>\n",
              "      <td>0.567273</td>\n",
              "      <td>0.003636</td>\n",
              "      <td>0.014545</td>\n",
              "      <td>0.140625</td>\n",
              "      <td>0.054545</td>\n",
              "      <td>0.996364</td>\n",
              "      <td>0.381250</td>\n",
              "      <td>0.056180</td>\n",
              "      <td>1.000000</td>\n",
              "    </tr>\n",
              "    <tr>\n",
              "      <th>3</th>\n",
              "      <td>29900</td>\n",
              "      <td>620</td>\n",
              "      <td>0.495161</td>\n",
              "      <td>0.003226</td>\n",
              "      <td>0.104839</td>\n",
              "      <td>0.086262</td>\n",
              "      <td>0.909677</td>\n",
              "      <td>0.000000</td>\n",
              "      <td>0.792793</td>\n",
              "      <td>0.009009</td>\n",
              "      <td>0.027027</td>\n",
              "      <td>0.051282</td>\n",
              "      <td>0.004504</td>\n",
              "      <td>0.995495</td>\n",
              "      <td>0.183761</td>\n",
              "      <td>0.162791</td>\n",
              "      <td>0.000000</td>\n",
              "    </tr>\n",
              "    <tr>\n",
              "      <th>4</th>\n",
              "      <td>85900</td>\n",
              "      <td>3809</td>\n",
              "      <td>0.491730</td>\n",
              "      <td>0.205303</td>\n",
              "      <td>0.107115</td>\n",
              "      <td>0.085744</td>\n",
              "      <td>0.899449</td>\n",
              "      <td>0.000000</td>\n",
              "      <td>0.766566</td>\n",
              "      <td>0.008283</td>\n",
              "      <td>0.039910</td>\n",
              "      <td>0.017024</td>\n",
              "      <td>0.200301</td>\n",
              "      <td>0.985693</td>\n",
              "      <td>0.198372</td>\n",
              "      <td>0.106557</td>\n",
              "      <td>0.666667</td>\n",
              "    </tr>\n",
              "    <tr>\n",
              "      <th>...</th>\n",
              "      <td>...</td>\n",
              "      <td>...</td>\n",
              "      <td>...</td>\n",
              "      <td>...</td>\n",
              "      <td>...</td>\n",
              "      <td>...</td>\n",
              "      <td>...</td>\n",
              "      <td>...</td>\n",
              "      <td>...</td>\n",
              "      <td>...</td>\n",
              "      <td>...</td>\n",
              "      <td>...</td>\n",
              "      <td>...</td>\n",
              "      <td>...</td>\n",
              "      <td>...</td>\n",
              "      <td>...</td>\n",
              "      <td>...</td>\n",
              "    </tr>\n",
              "    <tr>\n",
              "      <th>22779</th>\n",
              "      <td>68300</td>\n",
              "      <td>50618</td>\n",
              "      <td>0.479335</td>\n",
              "      <td>0.021870</td>\n",
              "      <td>0.148801</td>\n",
              "      <td>0.095921</td>\n",
              "      <td>0.884093</td>\n",
              "      <td>0.016615</td>\n",
              "      <td>0.770297</td>\n",
              "      <td>0.004876</td>\n",
              "      <td>0.034184</td>\n",
              "      <td>0.168155</td>\n",
              "      <td>0.018297</td>\n",
              "      <td>0.893886</td>\n",
              "      <td>0.353081</td>\n",
              "      <td>0.136044</td>\n",
              "      <td>0.542948</td>\n",
              "    </tr>\n",
              "    <tr>\n",
              "      <th>22780</th>\n",
              "      <td>22700</td>\n",
              "      <td>1090</td>\n",
              "      <td>0.473394</td>\n",
              "      <td>0.020184</td>\n",
              "      <td>0.228440</td>\n",
              "      <td>0.156794</td>\n",
              "      <td>0.794495</td>\n",
              "      <td>0.069725</td>\n",
              "      <td>0.664286</td>\n",
              "      <td>0.000000</td>\n",
              "      <td>0.016667</td>\n",
              "      <td>0.088937</td>\n",
              "      <td>0.009524</td>\n",
              "      <td>0.976190</td>\n",
              "      <td>0.344902</td>\n",
              "      <td>0.097744</td>\n",
              "      <td>0.600000</td>\n",
              "    </tr>\n",
              "    <tr>\n",
              "      <th>22781</th>\n",
              "      <td>286100</td>\n",
              "      <td>8272</td>\n",
              "      <td>0.473404</td>\n",
              "      <td>0.009188</td>\n",
              "      <td>0.135880</td>\n",
              "      <td>0.081726</td>\n",
              "      <td>0.774903</td>\n",
              "      <td>0.000000</td>\n",
              "      <td>0.630696</td>\n",
              "      <td>0.002516</td>\n",
              "      <td>0.115180</td>\n",
              "      <td>0.037665</td>\n",
              "      <td>0.008946</td>\n",
              "      <td>0.969248</td>\n",
              "      <td>0.243207</td>\n",
              "      <td>0.042318</td>\n",
              "      <td>0.483871</td>\n",
              "    </tr>\n",
              "    <tr>\n",
              "      <th>22782</th>\n",
              "      <td>33800</td>\n",
              "      <td>1438</td>\n",
              "      <td>0.486787</td>\n",
              "      <td>0.006954</td>\n",
              "      <td>0.136300</td>\n",
              "      <td>0.120596</td>\n",
              "      <td>0.849791</td>\n",
              "      <td>0.053547</td>\n",
              "      <td>0.740891</td>\n",
              "      <td>0.002024</td>\n",
              "      <td>0.018219</td>\n",
              "      <td>0.044487</td>\n",
              "      <td>0.002024</td>\n",
              "      <td>0.975708</td>\n",
              "      <td>0.234043</td>\n",
              "      <td>0.090909</td>\n",
              "      <td>0.625000</td>\n",
              "    </tr>\n",
              "    <tr>\n",
              "      <th>22783</th>\n",
              "      <td>43900</td>\n",
              "      <td>6321</td>\n",
              "      <td>0.465749</td>\n",
              "      <td>0.000000</td>\n",
              "      <td>0.157254</td>\n",
              "      <td>0.132366</td>\n",
              "      <td>0.874703</td>\n",
              "      <td>0.010283</td>\n",
              "      <td>0.736497</td>\n",
              "      <td>0.001157</td>\n",
              "      <td>0.014660</td>\n",
              "      <td>0.055738</td>\n",
              "      <td>0.000000</td>\n",
              "      <td>0.996528</td>\n",
              "      <td>0.228051</td>\n",
              "      <td>0.059278</td>\n",
              "      <td>0.322581</td>\n",
              "    </tr>\n",
              "  </tbody>\n",
              "</table>\n",
              "<p>22784 rows × 17 columns</p>\n",
              "</div>"
            ],
            "text/plain": [
              "        Price     P1      P5p1      P6p2     P11p4     P14p9     P15p1  \\\n",
              "0       14999    219  0.506849  0.031963  0.146119  0.101852  0.876712   \n",
              "1      106200   2273  0.495381  0.018918  0.067312  0.045336  0.794545   \n",
              "2       14999    564  0.457447  0.058511  0.299645  0.238562  0.764184   \n",
              "3       29900    620  0.495161  0.003226  0.104839  0.086262  0.909677   \n",
              "4       85900   3809  0.491730  0.205303  0.107115  0.085744  0.899449   \n",
              "...       ...    ...       ...       ...       ...       ...       ...   \n",
              "22779   68300  50618  0.479335  0.021870  0.148801  0.095921  0.884093   \n",
              "22780   22700   1090  0.473394  0.020184  0.228440  0.156794  0.794495   \n",
              "22781  286100   8272  0.473404  0.009188  0.135880  0.081726  0.774903   \n",
              "22782   33800   1438  0.486787  0.006954  0.136300  0.120596  0.849791   \n",
              "22783   43900   6321  0.465749  0.000000  0.157254  0.132366  0.874703   \n",
              "\n",
              "          P15p3     P16p2     P18p2     P27p4      H2p2      H8p2     H10p1  \\\n",
              "0      0.000000  0.746988  0.012048  0.060241  0.231482  0.024096  0.987952   \n",
              "1      0.016718  0.641053  0.002105  0.076842  0.064961  0.017895  0.997895   \n",
              "2      0.010638  0.567273  0.003636  0.014545  0.140625  0.054545  0.996364   \n",
              "3      0.000000  0.792793  0.009009  0.027027  0.051282  0.004504  0.995495   \n",
              "4      0.000000  0.766566  0.008283  0.039910  0.017024  0.200301  0.985693   \n",
              "...         ...       ...       ...       ...       ...       ...       ...   \n",
              "22779  0.016615  0.770297  0.004876  0.034184  0.168155  0.018297  0.893886   \n",
              "22780  0.069725  0.664286  0.000000  0.016667  0.088937  0.009524  0.976190   \n",
              "22781  0.000000  0.630696  0.002516  0.115180  0.037665  0.008946  0.969248   \n",
              "22782  0.053547  0.740891  0.002024  0.018219  0.044487  0.002024  0.975708   \n",
              "22783  0.010283  0.736497  0.001157  0.014660  0.055738  0.000000  0.996528   \n",
              "\n",
              "          H13p1     H18pA     H40p4  \n",
              "0      0.351852  0.000000  0.800000  \n",
              "1      0.170276  0.054217  0.258064  \n",
              "2      0.381250  0.056180  1.000000  \n",
              "3      0.183761  0.162791  0.000000  \n",
              "4      0.198372  0.106557  0.666667  \n",
              "...         ...       ...       ...  \n",
              "22779  0.353081  0.136044  0.542948  \n",
              "22780  0.344902  0.097744  0.600000  \n",
              "22781  0.243207  0.042318  0.483871  \n",
              "22782  0.234043  0.090909  0.625000  \n",
              "22783  0.228051  0.059278  0.322581  \n",
              "\n",
              "[22784 rows x 17 columns]"
            ]
          },
          "execution_count": 9,
          "metadata": {},
          "output_type": "execute_result"
        }
      ],
      "source": [
        "dataset_R"
      ]
    },
    {
      "cell_type": "markdown",
      "metadata": {
        "id": "2vS8lR_4GI3n"
      },
      "source": [
        "**SEPARANDO O CONJUNTO DE DADOS**"
      ]
    },
    {
      "cell_type": "code",
      "execution_count": 10,
      "metadata": {
        "id": "fl6XptHUW9kj"
      },
      "outputs": [],
      "source": [
        "X = dataset_R.drop([dataset_R.columns[0]], axis = 1)\n",
        "y = dataset_R[dataset_R.columns[0]]\n",
        "\n",
        "X_train, X_test, y_train, y_test = train_test_split(X,y)"
      ]
    },
    {
      "cell_type": "markdown",
      "metadata": {
        "id": "mNUzPt0NF_Tz"
      },
      "source": [
        "**TREINAMENTO DO MODELO**"
      ]
    },
    {
      "cell_type": "code",
      "execution_count": 11,
      "metadata": {
        "colab": {
          "base_uri": "https://localhost:8080/"
        },
        "id": "aN7_6PXcLQqf",
        "outputId": "380d6cc0-0364-4208-a4e2-622731e46fb2"
      },
      "outputs": [
        {
          "name": "stdout",
          "output_type": "stream",
          "text": [
            "MSE: 1885112277.2285705\n",
            "R2_score: 0.2597215575460978\n"
          ]
        }
      ],
      "source": [
        "regression_model = LinearRegression()\n",
        "regression_model.fit(X_train, y_train)\n",
        "\n",
        "y_pred = regression_model.predict(X_test)\n",
        "\n",
        "print(\"MSE:\", mean_squared_error(y_test, y_pred))\n",
        "print(\"R2_score:\", r2_score(y_test, y_pred))"
      ]
    },
    {
      "cell_type": "markdown",
      "metadata": {
        "id": "ME61eNhhh4g7"
      },
      "source": [
        "MSE = $\\frac{1}{n} \\sum\\limits_{i = 1}^{n}(y_i-\\hat{y_i})^2$"
      ]
    },
    {
      "cell_type": "code",
      "execution_count": 12,
      "metadata": {
        "colab": {
          "base_uri": "https://localhost:8080/",
          "height": 638
        },
        "id": "D88e2VECSAGq",
        "outputId": "383491a3-29e9-4fe0-df34-cdad530df1c9"
      },
      "outputs": [
        {
          "data": {
            "text/plain": [
              "Text(0.5, 1.0, 'True x Predicted')"
            ]
          },
          "execution_count": 12,
          "metadata": {},
          "output_type": "execute_result"
        },
        {
          "data": {
            "image/png": "[encoded data removed]",
            "text/plain": [
              "<Figure size 1080x720 with 1 Axes>"
            ]
          },
          "metadata": {
            "needs_background": "light"
          },
          "output_type": "display_data"
        }
      ],
      "source": [
        "plt.figure(figsize=(15,10))\n",
        "plt.scatter(y_test, y_pred)\n",
        "plt.xlabel(\"True\")\n",
        "plt.ylabel(\"Pred\")\n",
        "plt.title(\"True x Predicted\")"
      ]
    },
    {
      "cell_type": "code",
      "execution_count": 13,
      "metadata": {
        "colab": {
          "base_uri": "https://localhost:8080/",
          "height": 424
        },
        "id": "NuILRHL2UZLY",
        "outputId": "05f6ee30-f6cd-4ae1-b9e9-2ed899eb0b47"
      },
      "outputs": [
        {
          "data": {
            "text/html": [
              "<div>\n",
              "<style scoped>\n",
              "    .dataframe tbody tr th:only-of-type {\n",
              "        vertical-align: middle;\n",
              "    }\n",
              "\n",
              "    .dataframe tbody tr th {\n",
              "        vertical-align: top;\n",
              "    }\n",
              "\n",
              "    .dataframe thead th {\n",
              "        text-align: right;\n",
              "    }\n",
              "</style>\n",
              "<table border=\"1\" class=\"dataframe\">\n",
              "  <thead>\n",
              "    <tr style=\"text-align: right;\">\n",
              "      <th></th>\n",
              "      <th>True Value</th>\n",
              "      <th>Predicted value</th>\n",
              "      <th>Difference</th>\n",
              "    </tr>\n",
              "  </thead>\n",
              "  <tbody>\n",
              "    <tr>\n",
              "      <th>429</th>\n",
              "      <td>21900</td>\n",
              "      <td>55575.985128</td>\n",
              "      <td>-33675.985128</td>\n",
              "    </tr>\n",
              "    <tr>\n",
              "      <th>21647</th>\n",
              "      <td>42500</td>\n",
              "      <td>57549.540178</td>\n",
              "      <td>-15049.540178</td>\n",
              "    </tr>\n",
              "    <tr>\n",
              "      <th>10359</th>\n",
              "      <td>18200</td>\n",
              "      <td>56500.001289</td>\n",
              "      <td>-38300.001289</td>\n",
              "    </tr>\n",
              "    <tr>\n",
              "      <th>5286</th>\n",
              "      <td>14999</td>\n",
              "      <td>35775.744912</td>\n",
              "      <td>-20776.744912</td>\n",
              "    </tr>\n",
              "    <tr>\n",
              "      <th>12431</th>\n",
              "      <td>41200</td>\n",
              "      <td>46427.292393</td>\n",
              "      <td>-5227.292393</td>\n",
              "    </tr>\n",
              "    <tr>\n",
              "      <th>...</th>\n",
              "      <td>...</td>\n",
              "      <td>...</td>\n",
              "      <td>...</td>\n",
              "    </tr>\n",
              "    <tr>\n",
              "      <th>20007</th>\n",
              "      <td>61900</td>\n",
              "      <td>52798.292082</td>\n",
              "      <td>9101.707918</td>\n",
              "    </tr>\n",
              "    <tr>\n",
              "      <th>14562</th>\n",
              "      <td>47900</td>\n",
              "      <td>85548.817225</td>\n",
              "      <td>-37648.817225</td>\n",
              "    </tr>\n",
              "    <tr>\n",
              "      <th>10869</th>\n",
              "      <td>14999</td>\n",
              "      <td>57290.595072</td>\n",
              "      <td>-42291.595072</td>\n",
              "    </tr>\n",
              "    <tr>\n",
              "      <th>5196</th>\n",
              "      <td>14999</td>\n",
              "      <td>43677.809000</td>\n",
              "      <td>-28678.809000</td>\n",
              "    </tr>\n",
              "    <tr>\n",
              "      <th>4251</th>\n",
              "      <td>50900</td>\n",
              "      <td>63847.159041</td>\n",
              "      <td>-12947.159041</td>\n",
              "    </tr>\n",
              "  </tbody>\n",
              "</table>\n",
              "<p>5696 rows × 3 columns</p>\n",
              "</div>"
            ],
            "text/plain": [
              "       True Value  Predicted value    Difference\n",
              "429         21900     55575.985128 -33675.985128\n",
              "21647       42500     57549.540178 -15049.540178\n",
              "10359       18200     56500.001289 -38300.001289\n",
              "5286        14999     35775.744912 -20776.744912\n",
              "12431       41200     46427.292393  -5227.292393\n",
              "...           ...              ...           ...\n",
              "20007       61900     52798.292082   9101.707918\n",
              "14562       47900     85548.817225 -37648.817225\n",
              "10869       14999     57290.595072 -42291.595072\n",
              "5196        14999     43677.809000 -28678.809000\n",
              "4251        50900     63847.159041 -12947.159041\n",
              "\n",
              "[5696 rows x 3 columns]"
            ]
          },
          "execution_count": 13,
          "metadata": {},
          "output_type": "execute_result"
        }
      ],
      "source": [
        "pred_y_df = pd.DataFrame({\"True Value\": y_test, \"Predicted value\": y_pred, \"Difference\": y_test-y_pred})\n",
        "pred_y_df"
      ]
    }
  ],
  "metadata": {
    "colab": {
      "collapsed_sections": [],
      "name": "02-Regressão Linear e Logística.ipynb",
      "provenance": []
    },
    "kernelspec": {
      "display_name": "Python 3.10.6 64-bit (windows store)",
      "language": "python",
      "name": "python3"
    },
    "language_info": {
      "codemirror_mode": {
        "name": "ipython",
        "version": 3
      },
      "file_extension": ".py",
      "mimetype": "text/x-python",
      "name": "python",
      "nbconvert_exporter": "python",
      "pygments_lexer": "ipython3",
      "version": "3.10.6"
    },
    "vscode": {
      "interpreter": {
        "hash": "0ea76b492a7c062bbc724329c66c14fbc66bd3418d6058e08bf2ee2ebe4ee169"
      }
    }
  },
  "nbformat": 4,
  "nbformat_minor": 0
}
