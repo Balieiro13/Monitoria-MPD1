{
  "nbformat": 4,
  "nbformat_minor": 0,
  "metadata": {
    "colab": {
      "name": "02-Regressão Linear  e Logística.ipynb",
      "provenance": []
    },
    "kernelspec": {
      "name": "python3",
      "display_name": "Python 3"
    },
    "language_info": {
      "name": "python"
    }
  },
  "cells": [
    {
      "cell_type": "markdown",
      "source": [
        "**IMPORTANDO BIBLIOTECAS**"
      ],
      "metadata": {
        "id": "Ufch4bb1l7dX"
      }
    },
    {
      "cell_type": "code",
      "source": [
        "#Bibliotecas de manipualção e visualização de dados\n",
        "import numpy as np\n",
        "import pandas as pd\n",
        "import matplotlib.pyplot as plt\n",
        "from mlxtend.plotting import plot_decision_regions\n",
        "import seaborn as sns\n",
        "\n",
        "#Classes do modelo de aprendizado\n",
        "from sklearn.linear_model import LogisticRegression, LinearRegression\n",
        "\n",
        "#Funções de avaliação dos modelos\n",
        "from sklearn.metrics import mean_squared_error\n",
        "from sklearn.model_selection import train_test_split\n",
        "\n",
        "import warnings\n",
        "warnings.filterwarnings('ignore')"
      ],
      "metadata": {
        "id": "iBKVKN6RJIR3"
      },
      "execution_count": 16,
      "outputs": []
    },
    {
      "cell_type": "markdown",
      "source": [
        "**TREINAMENTO DO MODELO** - **REGRESSÃO LOGÍSTICA**\n",
        "\n"
      ],
      "metadata": {
        "id": "-wkFAbc-mbFg"
      }
    },
    {
      "cell_type": "code",
      "source": [
        "#Carregando o dataset\n",
        "dataset = pd.read_csv('https://raw.githubusercontent.com/JusciAvelino/Monitoria-ModelagemPreditivaDescritiva1//main/Iris.csv')"
      ],
      "metadata": {
        "id": "wE-YBsGLJJws"
      },
      "execution_count": 9,
      "outputs": []
    },
    {
      "cell_type": "code",
      "source": [
        "#Mapeando os valores da classe para inteiro (para fins de visualização da região de decisão)\n",
        "dataset['Species'] = pd.factorize(dataset['Species'])[0]\n",
        "mappingSize = {'setosa': 0, 'versicolor': 1, 'virginica': 2}"
      ],
      "metadata": {
        "id": "RK9TPkMmJMgC"
      },
      "execution_count": 10,
      "outputs": []
    },
    {
      "cell_type": "code",
      "source": [
        "#Vamos usar somente duas features SepalWidthCm e PetalLengthCm\n",
        "X = dataset.iloc[:,[1,2]]\n",
        "y = dataset.iloc[:,[4]]"
      ],
      "metadata": {
        "id": "Ikvor-24JPa1"
      },
      "execution_count": 11,
      "outputs": []
    },
    {
      "cell_type": "code",
      "source": [
        "#Separando o conjunto de dados em treinamento e teste\n",
        "X_train, X_test, y_train, y_test = train_test_split(X, y)\n",
        "\n",
        "model = LogisticRegression()\n",
        "#treinando o modelo\n",
        "model.fit(X_train, y_train)\n",
        "\n",
        "#predição\n",
        "y_pred = model.predict(X_test)\n",
        "\n",
        "#Resultados do classificador\n",
        "print(classification_report(y_test, y_pred))"
      ],
      "metadata": {
        "colab": {
          "base_uri": "https://localhost:8080/"
        },
        "id": "hixm2ZGTJS5s",
        "outputId": "74a69619-5b0d-4892-8bba-9396dadf2c8c"
      },
      "execution_count": 12,
      "outputs": [
        {
          "output_type": "stream",
          "name": "stdout",
          "text": [
            "              precision    recall  f1-score   support\n",
            "\n",
            "           0       1.00      1.00      1.00        15\n",
            "           1       1.00      0.81      0.90        16\n",
            "           2       0.70      1.00      0.82         7\n",
            "\n",
            "    accuracy                           0.92        38\n",
            "   macro avg       0.90      0.94      0.91        38\n",
            "weighted avg       0.94      0.92      0.92        38\n",
            "\n"
          ]
        }
      ]
    },
    {
      "cell_type": "code",
      "source": [
        "def show_decision_region(x, y, clf):\n",
        "    plot_decision_regions(x, y, clf=clf)\n",
        "    plt.xlabel(\"SepalWidthCm\")\n",
        "    plt.ylabel(\"PetalLengthCm\")\n",
        "\n",
        "    plt.title(clf.__class__.__name__)\n",
        "    plt.show()\n",
        "\n",
        "show_decision_region(np.array([X_test[\"SepalWidthCm\"].values, X_test[\"PetalLengthCm\"].values]).T, y_test.values.reshape(-1,1).T[0], model)"
      ],
      "metadata": {
        "colab": {
          "base_uri": "https://localhost:8080/",
          "height": 295
        },
        "id": "GXgh-EXGJemj",
        "outputId": "bb95885a-acf5-4960-a10e-80443f1782f1"
      },
      "execution_count": 13,
      "outputs": [
        {
          "output_type": "display_data",
          "data": {
            "text/plain": [
              "<Figure size 432x288 with 1 Axes>"
            ],
            "image/png": "[encoded data removed]"
          },
          "metadata": {
            "needs_background": "light"
          }
        }
      ]
    },
    {
      "cell_type": "markdown",
      "source": [
        "**REGRESSÃO LINEAR**"
      ],
      "metadata": {
        "id": "xsXmipfZLTxn"
      }
    },
    {
      "cell_type": "code",
      "source": [
        "#Vamos usar somente duas features SepalWidthCm e PetalLengthCm e a o atributo alvo como estamos abordando regressão será um dos atributos\n",
        "X = dataset.iloc[:,[1,2]]\n",
        "y = dataset.iloc[:,[3]]"
      ],
      "metadata": {
        "id": "fl6XptHUW9kj"
      },
      "execution_count": 14,
      "outputs": []
    },
    {
      "cell_type": "code",
      "source": [
        "X_train, X_test, y_train, y_test = train_test_split(X,y)\n",
        "\n",
        "regression_model = LinearRegression()\n",
        "regression_model.fit(X_train, y_train)\n",
        "\n",
        "y_pred = regression_model.predict(X_test)\n",
        "\n",
        "print(mean_squared_error(y_test, y_pred))"
      ],
      "metadata": {
        "colab": {
          "base_uri": "https://localhost:8080/"
        },
        "id": "aN7_6PXcLQqf",
        "outputId": "fed4d8cf-9c47-418a-84b8-79bb1831abba"
      },
      "execution_count": 17,
      "outputs": [
        {
          "output_type": "stream",
          "name": "stdout",
          "text": [
            "0.03491838662071547\n"
          ]
        }
      ]
    }
  ]
}