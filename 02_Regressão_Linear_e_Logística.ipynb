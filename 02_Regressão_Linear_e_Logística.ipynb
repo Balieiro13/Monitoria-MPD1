{
  "nbformat": 4,
  "nbformat_minor": 0,
  "metadata": {
    "colab": {
      "name": "02-Regressão Linear  e Logística.ipynb",
      "provenance": [],
      "collapsed_sections": []
    },
    "kernelspec": {
      "name": "python3",
      "display_name": "Python 3"
    },
    "language_info": {
      "name": "python"
    }
  },
  "cells": [
    {
      "cell_type": "markdown",
      "source": [
        "**IMPORTANDO BIBLIOTECAS**"
      ],
      "metadata": {
        "id": "Ufch4bb1l7dX"
      }
    },
    {
      "cell_type": "code",
      "source": [
        "#Bibliotecas de manipualção e visualização de dados\n",
        "import numpy as np\n",
        "import pandas as pd\n",
        "import matplotlib.pyplot as plt\n",
        "from mlxtend.plotting import plot_decision_regions\n",
        "import seaborn as sns\n",
        "\n",
        "#Classes do modelo de aprendizado\n",
        "from sklearn.linear_model import LogisticRegression, LinearRegression\n",
        "\n",
        "#Funções de avaliação dos modelos\n",
        "from sklearn.metrics import mean_squared_error, classification_report\n",
        "from sklearn.model_selection import train_test_split\n",
        "\n",
        "import warnings\n",
        "warnings.filterwarnings('ignore')"
      ],
      "metadata": {
        "id": "iBKVKN6RJIR3"
      },
      "execution_count": 1,
      "outputs": []
    },
    {
      "cell_type": "code",
      "source": [
        "#Carregando o dataset\n",
        "dataset = pd.read_csv('https://raw.githubusercontent.com/JusciAvelino/Monitoria-ModelagemPreditivaDescritiva1//main/Iris.csv')"
      ],
      "metadata": {
        "id": "wE-YBsGLJJws"
      },
      "execution_count": 2,
      "outputs": []
    },
    {
      "cell_type": "code",
      "source": [
        "#Mapeando os valores da classe para inteiro (para fins de visualização da região de decisão)\n",
        "dataset['Species'] = pd.factorize(dataset['Species'])[0]\n",
        "mappingSize = {'setosa': 0, 'versicolor': 1, 'virginica': 2}"
      ],
      "metadata": {
        "id": "RK9TPkMmJMgC"
      },
      "execution_count": 3,
      "outputs": []
    },
    {
      "cell_type": "markdown",
      "source": [
        "**SEPARANDO O CONJUNTO DE DADOS**"
      ],
      "metadata": {
        "id": "xSoq341FGVI-"
      }
    },
    {
      "cell_type": "code",
      "source": [
        "#Vamos usar somente duas features SepalWidthCm e PetalLengthCm\n",
        "X = dataset.iloc[:,[0,1]]\n",
        "y = dataset.iloc[:,[4]]\n",
        "\n",
        "#Separando o conjunto de dados em treinamento e teste\n",
        "X_train, X_test, y_train, y_test = train_test_split(X, y)"
      ],
      "metadata": {
        "id": "Ikvor-24JPa1"
      },
      "execution_count": 4,
      "outputs": []
    },
    {
      "cell_type": "markdown",
      "source": [
        "**TREINAMENTO DO MODELO - REGRESSÃO LOGÍSTICA**"
      ],
      "metadata": {
        "id": "USML-Y6YGZnD"
      }
    },
    {
      "cell_type": "code",
      "source": [
        "model = LogisticRegression()\n",
        "#treinando o modelo\n",
        "model.fit(X_train, y_train)\n",
        "\n",
        "#predição\n",
        "y_pred = model.predict(X_test)\n",
        "\n",
        "#Resultados do classificador\n",
        "print(classification_report(y_test, y_pred))"
      ],
      "metadata": {
        "colab": {
          "base_uri": "https://localhost:8080/"
        },
        "id": "hixm2ZGTJS5s",
        "outputId": "06d8fd10-5e77-4eda-c58e-b2e1fb6d2bfb"
      },
      "execution_count": 5,
      "outputs": [
        {
          "output_type": "stream",
          "name": "stdout",
          "text": [
            "              precision    recall  f1-score   support\n",
            "\n",
            "           0       1.00      1.00      1.00        13\n",
            "           1       0.83      0.62      0.71        16\n",
            "           2       0.54      0.78      0.64         9\n",
            "\n",
            "    accuracy                           0.79        38\n",
            "   macro avg       0.79      0.80      0.78        38\n",
            "weighted avg       0.82      0.79      0.79        38\n",
            "\n"
          ]
        }
      ]
    },
    {
      "cell_type": "markdown",
      "source": [
        "**REGIÃO DE DECISÃO**"
      ],
      "metadata": {
        "id": "V1FveOeNGi9-"
      }
    },
    {
      "cell_type": "code",
      "source": [
        "def show_decision_region(x, y, clf):\n",
        "    plot_decision_regions(x, y, clf=clf)\n",
        "    plt.xlabel(\"SepalLengthCm\")\n",
        "    plt.ylabel(\"SepalWidthCm\")\n",
        "\n",
        "    plt.title(clf.__class__.__name__)\n",
        "    plt.show()\n",
        "\n",
        "show_decision_region(np.array([X_test[\"SepalLengthCm\"].values, X_test[\"SepalWidthCm\"].values]).T, y_test.values.reshape(-1,1).T[0], model)"
      ],
      "metadata": {
        "colab": {
          "base_uri": "https://localhost:8080/",
          "height": 295
        },
        "id": "GXgh-EXGJemj",
        "outputId": "3edc3bb0-4b4a-4b2e-d614-548df0d2e1b1"
      },
      "execution_count": 9,
      "outputs": [
        {
          "output_type": "display_data",
          "data": {
            "text/plain": [
              "<Figure size 432x288 with 1 Axes>"
            ],
            "image/png": "[encoded data removed]"
          },
          "metadata": {
            "needs_background": "light"
          }
        }
      ]
    },
    {
      "cell_type": "markdown",
      "source": [
        "**REGRESSÃO LINEAR**"
      ],
      "metadata": {
        "id": "xsXmipfZLTxn"
      }
    },
    {
      "cell_type": "code",
      "source": [
        "dataset_R = pd.read_csv('https://raw.githubusercontent.com/JusciAvelino/Monitoria-ModelagemPreditivaDescritiva1//main/house.csv')"
      ],
      "metadata": {
        "id": "jIx9JBJAEr8u"
      },
      "execution_count": 10,
      "outputs": []
    },
    {
      "cell_type": "markdown",
      "source": [
        "**SEPARANDO O CONJUNTO DE DADOS**"
      ],
      "metadata": {
        "id": "2vS8lR_4GI3n"
      }
    },
    {
      "cell_type": "code",
      "source": [
        "X = dataset_R.drop([dataset_R.columns[0]], axis = 1)\n",
        "y = dataset_R[dataset_R.columns[0]]\n",
        "\n",
        "X_train, X_test, y_train, y_test = train_test_split(X,y)"
      ],
      "metadata": {
        "id": "fl6XptHUW9kj"
      },
      "execution_count": 11,
      "outputs": []
    },
    {
      "cell_type": "markdown",
      "source": [
        "**TREINAMENTO DO MODELO**"
      ],
      "metadata": {
        "id": "mNUzPt0NF_Tz"
      }
    },
    {
      "cell_type": "code",
      "source": [
        "regression_model = LinearRegression()\n",
        "regression_model.fit(X_train, y_train)\n",
        "\n",
        "y_pred = regression_model.predict(X_test)\n",
        "\n",
        "print(mean_squared_error(y_test, y_pred))"
      ],
      "metadata": {
        "colab": {
          "base_uri": "https://localhost:8080/"
        },
        "id": "aN7_6PXcLQqf",
        "outputId": "8738b974-3122-4b99-ed6a-f43e007736b2"
      },
      "execution_count": 12,
      "outputs": [
        {
          "output_type": "stream",
          "name": "stdout",
          "text": [
            "2004950634.1503146\n"
          ]
        }
      ]
    }
  ]
}